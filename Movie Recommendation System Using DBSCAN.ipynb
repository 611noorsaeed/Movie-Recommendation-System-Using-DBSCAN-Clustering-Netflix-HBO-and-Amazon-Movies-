{
 "cells": [
  {
   "cell_type": "markdown",
   "metadata": {},
   "source": [
    "#### Hi! Choosing a movie is a real struggle for many of us :) So most of the streaming platforms have inbuild recommendation systems. These systems aim to predict user's interests and recommend items that they'll probably like. Throughout this notebook, we will try to use 2 clasterisation methods to build our own movie recommender.\n",
    "\n",
    "#### We are going to use three following data sets:\n",
    "[Netflix TV Shows and Movies](https://www.kaggle.com/datasets/victorsoeiro/netflix-tv-shows-and-movies?datasetId=2178661&sortBy=voteCount)  \n",
    "[HBO Max TV Shows and Movies](https://www.kaggle.com/datasets/victorsoeiro/hbo-max-tv-shows-and-movies?select=titles.csv)  \n",
    "[Amazon Prime TV Shows and Movies](https://www.kaggle.com/datasets/victorsoeiro/amazon-prime-tv-shows-and-movies?select=titles.csv)  "
   ]
  },
  {
   "cell_type": "markdown",
   "metadata": {},
   "source": [
    "<a id=\"1\"></a> <br>\n",
    "# Data and Library Imports"
   ]
  },
  {
   "cell_type": "markdown",
   "metadata": {},
   "source": [
    "### Library Imports"
   ]
  },
  {
   "cell_type": "code",
   "execution_count": 60,
   "metadata": {
    "execution": {
     "iopub.execute_input": "2022-12-07T16:29:59.681032Z",
     "iopub.status.busy": "2022-12-07T16:29:59.680552Z",
     "iopub.status.idle": "2022-12-07T16:30:00.585777Z",
     "shell.execute_reply": "2022-12-07T16:30:00.584661Z",
     "shell.execute_reply.started": "2022-12-07T16:29:59.680943Z"
    }
   },
   "outputs": [],
   "source": [
    "import pandas as pd\n",
    "import numpy as np\n",
    "%precision %.4f\n",
    "\n",
    "import warnings\n",
    "warnings.filterwarnings('ignore')\n",
    "\n",
    "# visualisation\n",
    "import seaborn as sns\n",
    "sns.set(style=\"whitegrid\")\n",
    "from matplotlib import pyplot as plt\n",
    "%matplotlib inline\n",
    "# import missingno as msno\n",
    "\n",
    "# sklearn\n",
    "from sklearn.cluster import DBSCAN\n",
    "from sklearn.metrics import silhouette_samples, silhouette_score\n",
    "from sklearn.preprocessing import OneHotEncoder, MinMaxScaler"
   ]
  },
  {
   "cell_type": "markdown",
   "metadata": {},
   "source": [
    "### Data imports"
   ]
  },
  {
   "cell_type": "code",
   "execution_count": 61,
   "metadata": {
    "execution": {
     "iopub.execute_input": "2022-12-07T16:30:00.588220Z",
     "iopub.status.busy": "2022-12-07T16:30:00.587883Z",
     "iopub.status.idle": "2022-12-07T16:30:00.870705Z",
     "shell.execute_reply": "2022-12-07T16:30:00.869841Z",
     "shell.execute_reply.started": "2022-12-07T16:30:00.588190Z"
    }
   },
   "outputs": [],
   "source": [
    "df_netflix = pd.read_csv('Netflix TV Shows and Movies/titles.csv')\n",
    "df_amazon =  pd.read_csv('Amazon Prime TV Shows and Movies/titles.csv')\n",
    "df_hbo =  pd.read_csv('HBO Max TV Shows and Movies/titles.csv')"
   ]
  },
  {
   "cell_type": "code",
   "execution_count": 62,
   "metadata": {
    "execution": {
     "iopub.execute_input": "2022-12-07T16:30:00.872552Z",
     "iopub.status.busy": "2022-12-07T16:30:00.871771Z",
     "iopub.status.idle": "2022-12-07T16:30:00.891413Z",
     "shell.execute_reply": "2022-12-07T16:30:00.890500Z",
     "shell.execute_reply.started": "2022-12-07T16:30:00.872520Z"
    }
   },
   "outputs": [],
   "source": [
    "df = pd.concat([df_netflix, df_amazon, df_hbo], axis=0)"
   ]
  },
  {
   "cell_type": "code",
   "execution_count": 63,
   "metadata": {
    "execution": {
     "iopub.execute_input": "2022-12-07T16:30:00.895035Z",
     "iopub.status.busy": "2022-12-07T16:30:00.894402Z",
     "iopub.status.idle": "2022-12-07T16:30:00.952017Z",
     "shell.execute_reply": "2022-12-07T16:30:00.950936Z",
     "shell.execute_reply.started": "2022-12-07T16:30:00.894988Z"
    }
   },
   "outputs": [],
   "source": [
    "df_movies = df.drop_duplicates()"
   ]
  },
  {
   "cell_type": "markdown",
   "metadata": {},
   "source": [
    "<a id=\"2\"></a> <br>\n",
    "# Exploratory Data Analysis"
   ]
  },
  {
   "cell_type": "markdown",
   "metadata": {},
   "source": [
    "#### As the introduction to the data, let's take a look at the first 5 rows and the main characteristics of the dataset.\n"
   ]
  },
  {
   "cell_type": "code",
   "execution_count": 64,
   "metadata": {
    "execution": {
     "iopub.execute_input": "2022-12-07T16:30:00.954536Z",
     "iopub.status.busy": "2022-12-07T16:30:00.953491Z",
     "iopub.status.idle": "2022-12-07T16:30:00.983347Z",
     "shell.execute_reply": "2022-12-07T16:30:00.982312Z",
     "shell.execute_reply.started": "2022-12-07T16:30:00.954493Z"
    }
   },
   "outputs": [
    {
     "data": {
      "text/html": [
       "<div>\n",
       "<style scoped>\n",
       "    .dataframe tbody tr th:only-of-type {\n",
       "        vertical-align: middle;\n",
       "    }\n",
       "\n",
       "    .dataframe tbody tr th {\n",
       "        vertical-align: top;\n",
       "    }\n",
       "\n",
       "    .dataframe thead th {\n",
       "        text-align: right;\n",
       "    }\n",
       "</style>\n",
       "<table border=\"1\" class=\"dataframe\">\n",
       "  <thead>\n",
       "    <tr style=\"text-align: right;\">\n",
       "      <th></th>\n",
       "      <th>id</th>\n",
       "      <th>title</th>\n",
       "      <th>type</th>\n",
       "      <th>description</th>\n",
       "      <th>release_year</th>\n",
       "      <th>age_certification</th>\n",
       "      <th>runtime</th>\n",
       "      <th>genres</th>\n",
       "      <th>production_countries</th>\n",
       "      <th>seasons</th>\n",
       "      <th>imdb_id</th>\n",
       "      <th>imdb_score</th>\n",
       "      <th>imdb_votes</th>\n",
       "      <th>tmdb_popularity</th>\n",
       "      <th>tmdb_score</th>\n",
       "    </tr>\n",
       "  </thead>\n",
       "  <tbody>\n",
       "    <tr>\n",
       "      <th>0</th>\n",
       "      <td>ts300399</td>\n",
       "      <td>Five Came Back: The Reference Films</td>\n",
       "      <td>SHOW</td>\n",
       "      <td>This collection includes 12 World War II-era p...</td>\n",
       "      <td>1945</td>\n",
       "      <td>TV-MA</td>\n",
       "      <td>51</td>\n",
       "      <td>['documentation']</td>\n",
       "      <td>['US']</td>\n",
       "      <td>1.0</td>\n",
       "      <td>NaN</td>\n",
       "      <td>NaN</td>\n",
       "      <td>NaN</td>\n",
       "      <td>0.600</td>\n",
       "      <td>NaN</td>\n",
       "    </tr>\n",
       "    <tr>\n",
       "      <th>1</th>\n",
       "      <td>tm84618</td>\n",
       "      <td>Taxi Driver</td>\n",
       "      <td>MOVIE</td>\n",
       "      <td>A mentally unstable Vietnam War veteran works ...</td>\n",
       "      <td>1976</td>\n",
       "      <td>R</td>\n",
       "      <td>114</td>\n",
       "      <td>['drama', 'crime']</td>\n",
       "      <td>['US']</td>\n",
       "      <td>NaN</td>\n",
       "      <td>tt0075314</td>\n",
       "      <td>8.2</td>\n",
       "      <td>808582.0</td>\n",
       "      <td>40.965</td>\n",
       "      <td>8.179</td>\n",
       "    </tr>\n",
       "    <tr>\n",
       "      <th>2</th>\n",
       "      <td>tm154986</td>\n",
       "      <td>Deliverance</td>\n",
       "      <td>MOVIE</td>\n",
       "      <td>Intent on seeing the Cahulawassee River before...</td>\n",
       "      <td>1972</td>\n",
       "      <td>R</td>\n",
       "      <td>109</td>\n",
       "      <td>['drama', 'action', 'thriller', 'european']</td>\n",
       "      <td>['US']</td>\n",
       "      <td>NaN</td>\n",
       "      <td>tt0068473</td>\n",
       "      <td>7.7</td>\n",
       "      <td>107673.0</td>\n",
       "      <td>10.010</td>\n",
       "      <td>7.300</td>\n",
       "    </tr>\n",
       "    <tr>\n",
       "      <th>3</th>\n",
       "      <td>tm127384</td>\n",
       "      <td>Monty Python and the Holy Grail</td>\n",
       "      <td>MOVIE</td>\n",
       "      <td>King Arthur, accompanied by his squire, recrui...</td>\n",
       "      <td>1975</td>\n",
       "      <td>PG</td>\n",
       "      <td>91</td>\n",
       "      <td>['fantasy', 'action', 'comedy']</td>\n",
       "      <td>['GB']</td>\n",
       "      <td>NaN</td>\n",
       "      <td>tt0071853</td>\n",
       "      <td>8.2</td>\n",
       "      <td>534486.0</td>\n",
       "      <td>15.461</td>\n",
       "      <td>7.811</td>\n",
       "    </tr>\n",
       "    <tr>\n",
       "      <th>4</th>\n",
       "      <td>tm120801</td>\n",
       "      <td>The Dirty Dozen</td>\n",
       "      <td>MOVIE</td>\n",
       "      <td>12 American military prisoners in World War II...</td>\n",
       "      <td>1967</td>\n",
       "      <td>NaN</td>\n",
       "      <td>150</td>\n",
       "      <td>['war', 'action']</td>\n",
       "      <td>['GB', 'US']</td>\n",
       "      <td>NaN</td>\n",
       "      <td>tt0061578</td>\n",
       "      <td>7.7</td>\n",
       "      <td>72662.0</td>\n",
       "      <td>20.398</td>\n",
       "      <td>7.600</td>\n",
       "    </tr>\n",
       "  </tbody>\n",
       "</table>\n",
       "</div>"
      ],
      "text/plain": [
       "         id                                title   type  \\\n",
       "0  ts300399  Five Came Back: The Reference Films   SHOW   \n",
       "1   tm84618                          Taxi Driver  MOVIE   \n",
       "2  tm154986                          Deliverance  MOVIE   \n",
       "3  tm127384      Monty Python and the Holy Grail  MOVIE   \n",
       "4  tm120801                      The Dirty Dozen  MOVIE   \n",
       "\n",
       "                                         description  release_year  \\\n",
       "0  This collection includes 12 World War II-era p...          1945   \n",
       "1  A mentally unstable Vietnam War veteran works ...          1976   \n",
       "2  Intent on seeing the Cahulawassee River before...          1972   \n",
       "3  King Arthur, accompanied by his squire, recrui...          1975   \n",
       "4  12 American military prisoners in World War II...          1967   \n",
       "\n",
       "  age_certification  runtime                                       genres  \\\n",
       "0             TV-MA       51                            ['documentation']   \n",
       "1                 R      114                           ['drama', 'crime']   \n",
       "2                 R      109  ['drama', 'action', 'thriller', 'european']   \n",
       "3                PG       91              ['fantasy', 'action', 'comedy']   \n",
       "4               NaN      150                            ['war', 'action']   \n",
       "\n",
       "  production_countries  seasons    imdb_id  imdb_score  imdb_votes  \\\n",
       "0               ['US']      1.0        NaN         NaN         NaN   \n",
       "1               ['US']      NaN  tt0075314         8.2    808582.0   \n",
       "2               ['US']      NaN  tt0068473         7.7    107673.0   \n",
       "3               ['GB']      NaN  tt0071853         8.2    534486.0   \n",
       "4         ['GB', 'US']      NaN  tt0061578         7.7     72662.0   \n",
       "\n",
       "   tmdb_popularity  tmdb_score  \n",
       "0            0.600         NaN  \n",
       "1           40.965       8.179  \n",
       "2           10.010       7.300  \n",
       "3           15.461       7.811  \n",
       "4           20.398       7.600  "
      ]
     },
     "execution_count": 64,
     "metadata": {},
     "output_type": "execute_result"
    }
   ],
   "source": [
    "df_movies.head()"
   ]
  },
  {
   "cell_type": "markdown",
   "metadata": {},
   "source": [
    "#### We can already notice that some of the variables are missing data. Let's count the number of null and missing rows."
   ]
  },
  {
   "cell_type": "code",
   "execution_count": 65,
   "metadata": {
    "execution": {
     "iopub.execute_input": "2022-12-07T16:30:01.057785Z",
     "iopub.status.busy": "2022-12-07T16:30:01.057463Z",
     "iopub.status.idle": "2022-12-07T16:30:01.076684Z",
     "shell.execute_reply": "2022-12-07T16:30:01.075736Z",
     "shell.execute_reply.started": "2022-12-07T16:30:01.057756Z"
    }
   },
   "outputs": [
    {
     "data": {
      "text/plain": [
       "id                          0\n",
       "title                       1\n",
       "type                        0\n",
       "description               149\n",
       "release_year                0\n",
       "age_certification       10296\n",
       "runtime                     0\n",
       "genres                      0\n",
       "production_countries        0\n",
       "seasons                 14772\n",
       "imdb_id                  1394\n",
       "imdb_score               1873\n",
       "imdb_votes               1910\n",
       "tmdb_popularity           670\n",
       "tmdb_score               2656\n",
       "dtype: int64"
      ]
     },
     "execution_count": 65,
     "metadata": {},
     "output_type": "execute_result"
    }
   ],
   "source": [
    "df_movies.isna().sum()"
   ]
  },
  {
   "cell_type": "markdown",
   "metadata": {},
   "source": [
    "#### As we see, couple of variables have big gaps here.  \n",
    "#### We're going to take a closer look at some of the variables."
   ]
  },
  {
   "cell_type": "markdown",
   "metadata": {},
   "source": [
    "### #1 type"
   ]
  },
  {
   "cell_type": "code",
   "execution_count": 66,
   "metadata": {
    "execution": {
     "iopub.execute_input": "2022-12-07T16:30:01.662005Z",
     "iopub.status.busy": "2022-12-07T16:30:01.661276Z",
     "iopub.status.idle": "2022-12-07T16:30:01.674109Z",
     "shell.execute_reply": "2022-12-07T16:30:01.672964Z",
     "shell.execute_reply.started": "2022-12-07T16:30:01.661962Z"
    }
   },
   "outputs": [
    {
     "data": {
      "text/plain": [
       "type\n",
       "MOVIE    14772\n",
       "SHOW      4208\n",
       "Name: count, dtype: int64"
      ]
     },
     "execution_count": 66,
     "metadata": {},
     "output_type": "execute_result"
    }
   ],
   "source": [
    "df_movies.type.value_counts()"
   ]
  },
  {
   "cell_type": "code",
   "execution_count": 67,
   "metadata": {
    "execution": {
     "iopub.execute_input": "2022-12-07T16:30:01.676307Z",
     "iopub.status.busy": "2022-12-07T16:30:01.675831Z",
     "iopub.status.idle": "2022-12-07T16:30:01.796471Z",
     "shell.execute_reply": "2022-12-07T16:30:01.795218Z",
     "shell.execute_reply.started": "2022-12-07T16:30:01.676254Z"
    }
   },
   "outputs": [
    {
     "data": {
      "image/png": "[encoded data removed]",
      "text/plain": [
       "<Figure size 720x432 with 1 Axes>"
      ]
     },
     "metadata": {},
     "output_type": "display_data"
    }
   ],
   "source": [
    "plt.figure(figsize=(10,6))\n",
    "plt.title('Movies and TV series Parts', fontsize=18)\n",
    "plt.pie(df_movies.type.value_counts(), \n",
    "        labels=['Movie', 'Show'],\n",
    "        textprops={\"fontsize\":16},\n",
    "        radius=1.1, startangle=90,\n",
    "        colors=['#af0055', '#D05C9C'],\n",
    "        autopct='%.0f%%')\n",
    "plt.show()"
   ]
  },
  {
   "cell_type": "code",
   "execution_count": 68,
   "metadata": {
    "execution": {
     "iopub.execute_input": "2022-12-07T16:30:04.118745Z",
     "iopub.status.busy": "2022-12-07T16:30:04.118150Z",
     "iopub.status.idle": "2022-12-07T16:30:04.126396Z",
     "shell.execute_reply": "2022-12-07T16:30:04.125394Z",
     "shell.execute_reply.started": "2022-12-07T16:30:04.118712Z"
    }
   },
   "outputs": [],
   "source": [
    "df_movies.drop('description', axis=1, inplace=True)"
   ]
  },
  {
   "cell_type": "markdown",
   "metadata": {},
   "source": [
    "### #3 release_year"
   ]
  },
  {
   "cell_type": "code",
   "execution_count": 69,
   "metadata": {
    "execution": {
     "iopub.execute_input": "2022-12-07T16:30:04.128958Z",
     "iopub.status.busy": "2022-12-07T16:30:04.127889Z",
     "iopub.status.idle": "2022-12-07T16:30:04.723635Z",
     "shell.execute_reply": "2022-12-07T16:30:04.722562Z",
     "shell.execute_reply.started": "2022-12-07T16:30:04.128925Z"
    }
   },
   "outputs": [
    {
     "data": {
      "image/png": "[encoded data removed]",
      "text/plain": [
       "<Figure size 1080x432 with 1 Axes>"
      ]
     },
     "metadata": {
      "needs_background": "light"
     },
     "output_type": "display_data"
    }
   ],
   "source": [
    "plt.figure(figsize=(15,6))\n",
    "plt.title('\\nAmount of Movies per Year\\n', fontsize=18)\n",
    "sns.countplot(df_movies[df_movies.release_year>1980].release_year, palette='PuRd')\n",
    "plt.xticks(rotation=90)\n",
    "plt.xlabel(\"Year\")\n",
    "plt.ylabel(\"Movie Count\")\n",
    "plt.show()"
   ]
  },
  {
   "cell_type": "markdown",
   "metadata": {},
   "source": [
    "### #4 age_certification"
   ]
  },
  {
   "cell_type": "code",
   "execution_count": 70,
   "metadata": {
    "execution": {
     "iopub.execute_input": "2022-12-07T16:30:04.725196Z",
     "iopub.status.busy": "2022-12-07T16:30:04.724868Z",
     "iopub.status.idle": "2022-12-07T16:30:04.734777Z",
     "shell.execute_reply": "2022-12-07T16:30:04.733589Z",
     "shell.execute_reply.started": "2022-12-07T16:30:04.725166Z"
    }
   },
   "outputs": [
    {
     "name": "stdout",
     "output_type": "stream",
     "text": [
      "NaN values in age sertification variable: 10296\n",
      "This is 54 % of all the values\n"
     ]
    }
   ],
   "source": [
    "print('NaN values in age sertification variable:', df_movies.age_certification.isna().sum())\n",
    "print('This is', round(df_movies.age_certification.isna().sum()/df_movies.age_certification.shape[0]*100),'% of all the values')"
   ]
  },
  {
   "cell_type": "markdown",
   "metadata": {},
   "source": [
    "#### This variable contains too many undefined values, which cannot be filled in at the moment, so it was decided to drop it."
   ]
  },
  {
   "cell_type": "code",
   "execution_count": 71,
   "metadata": {
    "execution": {
     "iopub.execute_input": "2022-12-07T16:30:04.736557Z",
     "iopub.status.busy": "2022-12-07T16:30:04.736152Z",
     "iopub.status.idle": "2022-12-07T16:30:04.750594Z",
     "shell.execute_reply": "2022-12-07T16:30:04.749249Z",
     "shell.execute_reply.started": "2022-12-07T16:30:04.736527Z"
    }
   },
   "outputs": [],
   "source": [
    "df_movies.drop('age_certification', axis=1, inplace=True)"
   ]
  },
  {
   "cell_type": "markdown",
   "metadata": {},
   "source": [
    "### #5,6 production_countries and genres"
   ]
  },
  {
   "cell_type": "markdown",
   "metadata": {},
   "source": [
    "#### These two variables are represented as lists.\n",
    "\n",
    "#### Therefore, before working with them, the lists must be \"unpacked\" to strings. We'll also get a single \"top\" category of a list."
   ]
  },
  {
   "cell_type": "code",
   "execution_count": 72,
   "metadata": {
    "execution": {
     "iopub.execute_input": "2022-12-07T16:30:04.752209Z",
     "iopub.status.busy": "2022-12-07T16:30:04.751825Z",
     "iopub.status.idle": "2022-12-07T16:30:04.776556Z",
     "shell.execute_reply": "2022-12-07T16:30:04.775342Z",
     "shell.execute_reply.started": "2022-12-07T16:30:04.752178Z"
    }
   },
   "outputs": [
    {
     "data": {
      "text/html": [
       "<div>\n",
       "<style scoped>\n",
       "    .dataframe tbody tr th:only-of-type {\n",
       "        vertical-align: middle;\n",
       "    }\n",
       "\n",
       "    .dataframe tbody tr th {\n",
       "        vertical-align: top;\n",
       "    }\n",
       "\n",
       "    .dataframe thead th {\n",
       "        text-align: right;\n",
       "    }\n",
       "</style>\n",
       "<table border=\"1\" class=\"dataframe\">\n",
       "  <thead>\n",
       "    <tr style=\"text-align: right;\">\n",
       "      <th></th>\n",
       "      <th>id</th>\n",
       "      <th>title</th>\n",
       "      <th>type</th>\n",
       "      <th>release_year</th>\n",
       "      <th>runtime</th>\n",
       "      <th>genres</th>\n",
       "      <th>production_countries</th>\n",
       "      <th>seasons</th>\n",
       "      <th>imdb_id</th>\n",
       "      <th>imdb_score</th>\n",
       "      <th>imdb_votes</th>\n",
       "      <th>tmdb_popularity</th>\n",
       "      <th>tmdb_score</th>\n",
       "    </tr>\n",
       "  </thead>\n",
       "  <tbody>\n",
       "    <tr>\n",
       "      <th>0</th>\n",
       "      <td>ts300399</td>\n",
       "      <td>Five Came Back: The Reference Films</td>\n",
       "      <td>SHOW</td>\n",
       "      <td>1945</td>\n",
       "      <td>51</td>\n",
       "      <td>['documentation']</td>\n",
       "      <td>['US']</td>\n",
       "      <td>1.0</td>\n",
       "      <td>NaN</td>\n",
       "      <td>NaN</td>\n",
       "      <td>NaN</td>\n",
       "      <td>0.600</td>\n",
       "      <td>NaN</td>\n",
       "    </tr>\n",
       "    <tr>\n",
       "      <th>1</th>\n",
       "      <td>tm84618</td>\n",
       "      <td>Taxi Driver</td>\n",
       "      <td>MOVIE</td>\n",
       "      <td>1976</td>\n",
       "      <td>114</td>\n",
       "      <td>['drama', 'crime']</td>\n",
       "      <td>['US']</td>\n",
       "      <td>NaN</td>\n",
       "      <td>tt0075314</td>\n",
       "      <td>8.2</td>\n",
       "      <td>808582.0</td>\n",
       "      <td>40.965</td>\n",
       "      <td>8.179</td>\n",
       "    </tr>\n",
       "    <tr>\n",
       "      <th>2</th>\n",
       "      <td>tm154986</td>\n",
       "      <td>Deliverance</td>\n",
       "      <td>MOVIE</td>\n",
       "      <td>1972</td>\n",
       "      <td>109</td>\n",
       "      <td>['drama', 'action', 'thriller', 'european']</td>\n",
       "      <td>['US']</td>\n",
       "      <td>NaN</td>\n",
       "      <td>tt0068473</td>\n",
       "      <td>7.7</td>\n",
       "      <td>107673.0</td>\n",
       "      <td>10.010</td>\n",
       "      <td>7.300</td>\n",
       "    </tr>\n",
       "    <tr>\n",
       "      <th>3</th>\n",
       "      <td>tm127384</td>\n",
       "      <td>Monty Python and the Holy Grail</td>\n",
       "      <td>MOVIE</td>\n",
       "      <td>1975</td>\n",
       "      <td>91</td>\n",
       "      <td>['fantasy', 'action', 'comedy']</td>\n",
       "      <td>['GB']</td>\n",
       "      <td>NaN</td>\n",
       "      <td>tt0071853</td>\n",
       "      <td>8.2</td>\n",
       "      <td>534486.0</td>\n",
       "      <td>15.461</td>\n",
       "      <td>7.811</td>\n",
       "    </tr>\n",
       "    <tr>\n",
       "      <th>4</th>\n",
       "      <td>tm120801</td>\n",
       "      <td>The Dirty Dozen</td>\n",
       "      <td>MOVIE</td>\n",
       "      <td>1967</td>\n",
       "      <td>150</td>\n",
       "      <td>['war', 'action']</td>\n",
       "      <td>['GB', 'US']</td>\n",
       "      <td>NaN</td>\n",
       "      <td>tt0061578</td>\n",
       "      <td>7.7</td>\n",
       "      <td>72662.0</td>\n",
       "      <td>20.398</td>\n",
       "      <td>7.600</td>\n",
       "    </tr>\n",
       "  </tbody>\n",
       "</table>\n",
       "</div>"
      ],
      "text/plain": [
       "         id                                title   type  release_year  \\\n",
       "0  ts300399  Five Came Back: The Reference Films   SHOW          1945   \n",
       "1   tm84618                          Taxi Driver  MOVIE          1976   \n",
       "2  tm154986                          Deliverance  MOVIE          1972   \n",
       "3  tm127384      Monty Python and the Holy Grail  MOVIE          1975   \n",
       "4  tm120801                      The Dirty Dozen  MOVIE          1967   \n",
       "\n",
       "   runtime                                       genres production_countries  \\\n",
       "0       51                            ['documentation']               ['US']   \n",
       "1      114                           ['drama', 'crime']               ['US']   \n",
       "2      109  ['drama', 'action', 'thriller', 'european']               ['US']   \n",
       "3       91              ['fantasy', 'action', 'comedy']               ['GB']   \n",
       "4      150                            ['war', 'action']         ['GB', 'US']   \n",
       "\n",
       "   seasons    imdb_id  imdb_score  imdb_votes  tmdb_popularity  tmdb_score  \n",
       "0      1.0        NaN         NaN         NaN            0.600         NaN  \n",
       "1      NaN  tt0075314         8.2    808582.0           40.965       8.179  \n",
       "2      NaN  tt0068473         7.7    107673.0           10.010       7.300  \n",
       "3      NaN  tt0071853         8.2    534486.0           15.461       7.811  \n",
       "4      NaN  tt0061578         7.7     72662.0           20.398       7.600  "
      ]
     },
     "execution_count": 72,
     "metadata": {},
     "output_type": "execute_result"
    }
   ],
   "source": [
    "df_movies.head()"
   ]
  },
  {
   "cell_type": "code",
   "execution_count": 73,
   "metadata": {
    "execution": {
     "iopub.execute_input": "2022-12-07T16:30:04.779209Z",
     "iopub.status.busy": "2022-12-07T16:30:04.778770Z",
     "iopub.status.idle": "2022-12-07T16:30:04.987165Z",
     "shell.execute_reply": "2022-12-07T16:30:04.986154Z",
     "shell.execute_reply.started": "2022-12-07T16:30:04.779156Z"
    }
   },
   "outputs": [],
   "source": [
    "df_movies['production_countries'] = df_movies['production_countries'].str.replace(r\"[\", '').str.replace(r\"'\", '').str.replace(r\"]\", '')\n",
    "df_movies['lead_prod_country'] = df_movies['production_countries'].str.split(',').str[0]\n",
    "\n",
    "# Let's also add a number of countries, envolved in movie making, so that we save a little more data\n",
    "df_movies['prod_countries_cnt'] = df_movies['production_countries'].str.split(',').str.len()"
   ]
  },
  {
   "cell_type": "code",
   "execution_count": 74,
   "metadata": {
    "execution": {
     "iopub.execute_input": "2022-12-07T16:30:04.988681Z",
     "iopub.status.busy": "2022-12-07T16:30:04.988384Z",
     "iopub.status.idle": "2022-12-07T16:30:04.996972Z",
     "shell.execute_reply": "2022-12-07T16:30:04.995848Z",
     "shell.execute_reply.started": "2022-12-07T16:30:04.988654Z"
    }
   },
   "outputs": [],
   "source": [
    "df_movies.lead_prod_country = df_movies.lead_prod_country.replace('', np.nan)"
   ]
  },
  {
   "cell_type": "code",
   "execution_count": 75,
   "metadata": {
    "execution": {
     "iopub.execute_input": "2022-12-07T16:30:04.998727Z",
     "iopub.status.busy": "2022-12-07T16:30:04.998394Z",
     "iopub.status.idle": "2022-12-07T16:30:05.214904Z",
     "shell.execute_reply": "2022-12-07T16:30:05.213830Z",
     "shell.execute_reply.started": "2022-12-07T16:30:04.998697Z"
    }
   },
   "outputs": [
    {
     "data": {
      "image/png": "[encoded data removed]",
      "text/plain": [
       "<Figure size 720x432 with 1 Axes>"
      ]
     },
     "metadata": {
      "needs_background": "light"
     },
     "output_type": "display_data"
    }
   ],
   "source": [
    "bp_df = pd.DataFrame(df_movies.lead_prod_country.value_counts()).head(10)\n",
    "order = bp_df.index\n",
    "plt.figure(figsize=(10,6))\n",
    "plt.title('\\nTop 10 Countries by Amount of Movies\\n', fontsize=18)\n",
    "sns.countplot(y=df_movies.lead_prod_country, palette='PuRd_r', order=order)\n",
    "plt.xlabel('Movie Count')\n",
    "plt.ylabel('Country')\n",
    "plt.show()"
   ]
  },
  {
   "cell_type": "markdown",
   "metadata": {},
   "source": [
    "#### Similar transformations we'll perform for genre: unpacking the list and leaving one main genre."
   ]
  },
  {
   "cell_type": "code",
   "execution_count": 76,
   "metadata": {
    "execution": {
     "iopub.execute_input": "2022-12-07T16:30:05.216852Z",
     "iopub.status.busy": "2022-12-07T16:30:05.216519Z",
     "iopub.status.idle": "2022-12-07T16:30:05.284807Z",
     "shell.execute_reply": "2022-12-07T16:30:05.283707Z",
     "shell.execute_reply.started": "2022-12-07T16:30:05.216822Z"
    }
   },
   "outputs": [],
   "source": [
    "df_movies['genres'] = df_movies['genres'].str.replace(r\"[\", '').str.replace(r\"'\", '').str.replace(r\"]\", '')\n",
    "df_movies['main_genre'] = df_movies['genres'].str.split(',').str[0]"
   ]
  },
  {
   "cell_type": "code",
   "execution_count": 77,
   "metadata": {
    "execution": {
     "iopub.execute_input": "2022-12-07T16:30:05.286537Z",
     "iopub.status.busy": "2022-12-07T16:30:05.286179Z",
     "iopub.status.idle": "2022-12-07T16:30:05.299943Z",
     "shell.execute_reply": "2022-12-07T16:30:05.298664Z",
     "shell.execute_reply.started": "2022-12-07T16:30:05.286502Z"
    }
   },
   "outputs": [],
   "source": [
    "df_movies.drop(['genres', 'production_countries'], axis=1, inplace=True)"
   ]
  },
  {
   "cell_type": "markdown",
   "metadata": {},
   "source": [
    "#### Let's check out the result"
   ]
  },
  {
   "cell_type": "code",
   "execution_count": 78,
   "metadata": {
    "execution": {
     "iopub.execute_input": "2022-12-07T16:30:05.302233Z",
     "iopub.status.busy": "2022-12-07T16:30:05.301886Z",
     "iopub.status.idle": "2022-12-07T16:30:05.323200Z",
     "shell.execute_reply": "2022-12-07T16:30:05.321995Z",
     "shell.execute_reply.started": "2022-12-07T16:30:05.302201Z"
    }
   },
   "outputs": [
    {
     "data": {
      "text/html": [
       "<div>\n",
       "<style scoped>\n",
       "    .dataframe tbody tr th:only-of-type {\n",
       "        vertical-align: middle;\n",
       "    }\n",
       "\n",
       "    .dataframe tbody tr th {\n",
       "        vertical-align: top;\n",
       "    }\n",
       "\n",
       "    .dataframe thead th {\n",
       "        text-align: right;\n",
       "    }\n",
       "</style>\n",
       "<table border=\"1\" class=\"dataframe\">\n",
       "  <thead>\n",
       "    <tr style=\"text-align: right;\">\n",
       "      <th></th>\n",
       "      <th>id</th>\n",
       "      <th>title</th>\n",
       "      <th>type</th>\n",
       "      <th>release_year</th>\n",
       "      <th>runtime</th>\n",
       "      <th>seasons</th>\n",
       "      <th>imdb_id</th>\n",
       "      <th>imdb_score</th>\n",
       "      <th>imdb_votes</th>\n",
       "      <th>tmdb_popularity</th>\n",
       "      <th>tmdb_score</th>\n",
       "      <th>lead_prod_country</th>\n",
       "      <th>prod_countries_cnt</th>\n",
       "      <th>main_genre</th>\n",
       "    </tr>\n",
       "  </thead>\n",
       "  <tbody>\n",
       "    <tr>\n",
       "      <th>0</th>\n",
       "      <td>ts300399</td>\n",
       "      <td>Five Came Back: The Reference Films</td>\n",
       "      <td>SHOW</td>\n",
       "      <td>1945</td>\n",
       "      <td>51</td>\n",
       "      <td>1.0</td>\n",
       "      <td>NaN</td>\n",
       "      <td>NaN</td>\n",
       "      <td>NaN</td>\n",
       "      <td>0.600</td>\n",
       "      <td>NaN</td>\n",
       "      <td>US</td>\n",
       "      <td>1</td>\n",
       "      <td>documentation</td>\n",
       "    </tr>\n",
       "    <tr>\n",
       "      <th>1</th>\n",
       "      <td>tm84618</td>\n",
       "      <td>Taxi Driver</td>\n",
       "      <td>MOVIE</td>\n",
       "      <td>1976</td>\n",
       "      <td>114</td>\n",
       "      <td>NaN</td>\n",
       "      <td>tt0075314</td>\n",
       "      <td>8.2</td>\n",
       "      <td>808582.0</td>\n",
       "      <td>40.965</td>\n",
       "      <td>8.179</td>\n",
       "      <td>US</td>\n",
       "      <td>1</td>\n",
       "      <td>drama</td>\n",
       "    </tr>\n",
       "    <tr>\n",
       "      <th>2</th>\n",
       "      <td>tm154986</td>\n",
       "      <td>Deliverance</td>\n",
       "      <td>MOVIE</td>\n",
       "      <td>1972</td>\n",
       "      <td>109</td>\n",
       "      <td>NaN</td>\n",
       "      <td>tt0068473</td>\n",
       "      <td>7.7</td>\n",
       "      <td>107673.0</td>\n",
       "      <td>10.010</td>\n",
       "      <td>7.300</td>\n",
       "      <td>US</td>\n",
       "      <td>1</td>\n",
       "      <td>drama</td>\n",
       "    </tr>\n",
       "    <tr>\n",
       "      <th>3</th>\n",
       "      <td>tm127384</td>\n",
       "      <td>Monty Python and the Holy Grail</td>\n",
       "      <td>MOVIE</td>\n",
       "      <td>1975</td>\n",
       "      <td>91</td>\n",
       "      <td>NaN</td>\n",
       "      <td>tt0071853</td>\n",
       "      <td>8.2</td>\n",
       "      <td>534486.0</td>\n",
       "      <td>15.461</td>\n",
       "      <td>7.811</td>\n",
       "      <td>GB</td>\n",
       "      <td>1</td>\n",
       "      <td>fantasy</td>\n",
       "    </tr>\n",
       "    <tr>\n",
       "      <th>4</th>\n",
       "      <td>tm120801</td>\n",
       "      <td>The Dirty Dozen</td>\n",
       "      <td>MOVIE</td>\n",
       "      <td>1967</td>\n",
       "      <td>150</td>\n",
       "      <td>NaN</td>\n",
       "      <td>tt0061578</td>\n",
       "      <td>7.7</td>\n",
       "      <td>72662.0</td>\n",
       "      <td>20.398</td>\n",
       "      <td>7.600</td>\n",
       "      <td>GB</td>\n",
       "      <td>2</td>\n",
       "      <td>war</td>\n",
       "    </tr>\n",
       "  </tbody>\n",
       "</table>\n",
       "</div>"
      ],
      "text/plain": [
       "         id                                title   type  release_year  \\\n",
       "0  ts300399  Five Came Back: The Reference Films   SHOW          1945   \n",
       "1   tm84618                          Taxi Driver  MOVIE          1976   \n",
       "2  tm154986                          Deliverance  MOVIE          1972   \n",
       "3  tm127384      Monty Python and the Holy Grail  MOVIE          1975   \n",
       "4  tm120801                      The Dirty Dozen  MOVIE          1967   \n",
       "\n",
       "   runtime  seasons    imdb_id  imdb_score  imdb_votes  tmdb_popularity  \\\n",
       "0       51      1.0        NaN         NaN         NaN            0.600   \n",
       "1      114      NaN  tt0075314         8.2    808582.0           40.965   \n",
       "2      109      NaN  tt0068473         7.7    107673.0           10.010   \n",
       "3       91      NaN  tt0071853         8.2    534486.0           15.461   \n",
       "4      150      NaN  tt0061578         7.7     72662.0           20.398   \n",
       "\n",
       "   tmdb_score lead_prod_country  prod_countries_cnt     main_genre  \n",
       "0         NaN                US                   1  documentation  \n",
       "1       8.179                US                   1          drama  \n",
       "2       7.300                US                   1          drama  \n",
       "3       7.811                GB                   1        fantasy  \n",
       "4       7.600                GB                   2            war  "
      ]
     },
     "execution_count": 78,
     "metadata": {},
     "output_type": "execute_result"
    }
   ],
   "source": [
    "df_movies.head()"
   ]
  },
  {
   "cell_type": "code",
   "execution_count": 79,
   "metadata": {
    "execution": {
     "iopub.execute_input": "2022-12-07T16:30:05.325243Z",
     "iopub.status.busy": "2022-12-07T16:30:05.324854Z",
     "iopub.status.idle": "2022-12-07T16:30:05.336795Z",
     "shell.execute_reply": "2022-12-07T16:30:05.335591Z",
     "shell.execute_reply.started": "2022-12-07T16:30:05.325213Z"
    }
   },
   "outputs": [
    {
     "data": {
      "text/plain": [
       "array(['documentation', 'drama', 'fantasy', 'war', 'comedy', 'thriller',\n",
       "       'crime', 'romance', 'action', 'western', 'history', 'music',\n",
       "       'horror', 'scifi', 'animation', 'family', 'reality', '', 'sport',\n",
       "       'european'], dtype=object)"
      ]
     },
     "execution_count": 79,
     "metadata": {},
     "output_type": "execute_result"
    }
   ],
   "source": [
    "df_movies['main_genre'].unique()"
   ]
  },
  {
   "cell_type": "markdown",
   "metadata": {},
   "source": [
    "#### After the transformation, the strings that contained missing values left us an empty genre.\n",
    "#### Let's fill it with NaN, in order to make it easier to deal with in the future."
   ]
  },
  {
   "cell_type": "code",
   "execution_count": 80,
   "metadata": {
    "execution": {
     "iopub.execute_input": "2022-12-07T16:30:05.338586Z",
     "iopub.status.busy": "2022-12-07T16:30:05.338219Z",
     "iopub.status.idle": "2022-12-07T16:30:05.345428Z",
     "shell.execute_reply": "2022-12-07T16:30:05.344503Z",
     "shell.execute_reply.started": "2022-12-07T16:30:05.338557Z"
    }
   },
   "outputs": [],
   "source": [
    "df_movies.main_genre = df_movies.main_genre.replace('', np.nan)"
   ]
  },
  {
   "cell_type": "code",
   "execution_count": 81,
   "metadata": {
    "execution": {
     "iopub.execute_input": "2022-12-07T16:30:05.347042Z",
     "iopub.status.busy": "2022-12-07T16:30:05.346721Z",
     "iopub.status.idle": "2022-12-07T16:30:05.633450Z",
     "shell.execute_reply": "2022-12-07T16:30:05.632336Z",
     "shell.execute_reply.started": "2022-12-07T16:30:05.347015Z"
    }
   },
   "outputs": [
    {
     "data": {
      "image/png": "[encoded data removed]",
      "text/plain": [
       "<Figure size 720x432 with 1 Axes>"
      ]
     },
     "metadata": {
      "needs_background": "light"
     },
     "output_type": "display_data"
    }
   ],
   "source": [
    "bp_df = pd.DataFrame(df_movies.main_genre.value_counts())\n",
    "order = bp_df.index\n",
    "plt.figure(figsize=(10,6))\n",
    "plt.title('\\nAmount of Movies by Genre\\n', fontsize=18)\n",
    "sns.countplot(y=df_movies.main_genre, palette='PuRd_r', order=order)\n",
    "plt.xlabel('Movie Count')\n",
    "plt.ylabel('Genre')\n",
    "plt.show()"
   ]
  },
  {
   "cell_type": "markdown",
   "metadata": {},
   "source": [
    "### #7 seasons"
   ]
  },
  {
   "cell_type": "code",
   "execution_count": 82,
   "metadata": {
    "execution": {
     "iopub.execute_input": "2022-12-07T16:30:05.643091Z",
     "iopub.status.busy": "2022-12-07T16:30:05.641945Z",
     "iopub.status.idle": "2022-12-07T16:30:05.664537Z",
     "shell.execute_reply": "2022-12-07T16:30:05.663175Z",
     "shell.execute_reply.started": "2022-12-07T16:30:05.643042Z"
    }
   },
   "outputs": [
    {
     "data": {
      "text/html": [
       "<div>\n",
       "<style scoped>\n",
       "    .dataframe tbody tr th:only-of-type {\n",
       "        vertical-align: middle;\n",
       "    }\n",
       "\n",
       "    .dataframe tbody tr th {\n",
       "        vertical-align: top;\n",
       "    }\n",
       "\n",
       "    .dataframe thead th {\n",
       "        text-align: right;\n",
       "    }\n",
       "</style>\n",
       "<table border=\"1\" class=\"dataframe\">\n",
       "  <thead>\n",
       "    <tr style=\"text-align: right;\">\n",
       "      <th></th>\n",
       "      <th>id</th>\n",
       "      <th>title</th>\n",
       "      <th>type</th>\n",
       "      <th>release_year</th>\n",
       "      <th>runtime</th>\n",
       "      <th>seasons</th>\n",
       "      <th>imdb_id</th>\n",
       "      <th>imdb_score</th>\n",
       "      <th>imdb_votes</th>\n",
       "      <th>tmdb_popularity</th>\n",
       "      <th>tmdb_score</th>\n",
       "      <th>lead_prod_country</th>\n",
       "      <th>prod_countries_cnt</th>\n",
       "      <th>main_genre</th>\n",
       "    </tr>\n",
       "  </thead>\n",
       "  <tbody>\n",
       "    <tr>\n",
       "      <th>0</th>\n",
       "      <td>ts300399</td>\n",
       "      <td>Five Came Back: The Reference Films</td>\n",
       "      <td>SHOW</td>\n",
       "      <td>1945</td>\n",
       "      <td>51</td>\n",
       "      <td>1.0</td>\n",
       "      <td>NaN</td>\n",
       "      <td>NaN</td>\n",
       "      <td>NaN</td>\n",
       "      <td>0.600</td>\n",
       "      <td>NaN</td>\n",
       "      <td>US</td>\n",
       "      <td>1</td>\n",
       "      <td>documentation</td>\n",
       "    </tr>\n",
       "    <tr>\n",
       "      <th>1</th>\n",
       "      <td>tm84618</td>\n",
       "      <td>Taxi Driver</td>\n",
       "      <td>MOVIE</td>\n",
       "      <td>1976</td>\n",
       "      <td>114</td>\n",
       "      <td>NaN</td>\n",
       "      <td>tt0075314</td>\n",
       "      <td>8.2</td>\n",
       "      <td>808582.0</td>\n",
       "      <td>40.965</td>\n",
       "      <td>8.179</td>\n",
       "      <td>US</td>\n",
       "      <td>1</td>\n",
       "      <td>drama</td>\n",
       "    </tr>\n",
       "    <tr>\n",
       "      <th>2</th>\n",
       "      <td>tm154986</td>\n",
       "      <td>Deliverance</td>\n",
       "      <td>MOVIE</td>\n",
       "      <td>1972</td>\n",
       "      <td>109</td>\n",
       "      <td>NaN</td>\n",
       "      <td>tt0068473</td>\n",
       "      <td>7.7</td>\n",
       "      <td>107673.0</td>\n",
       "      <td>10.010</td>\n",
       "      <td>7.300</td>\n",
       "      <td>US</td>\n",
       "      <td>1</td>\n",
       "      <td>drama</td>\n",
       "    </tr>\n",
       "    <tr>\n",
       "      <th>3</th>\n",
       "      <td>tm127384</td>\n",
       "      <td>Monty Python and the Holy Grail</td>\n",
       "      <td>MOVIE</td>\n",
       "      <td>1975</td>\n",
       "      <td>91</td>\n",
       "      <td>NaN</td>\n",
       "      <td>tt0071853</td>\n",
       "      <td>8.2</td>\n",
       "      <td>534486.0</td>\n",
       "      <td>15.461</td>\n",
       "      <td>7.811</td>\n",
       "      <td>GB</td>\n",
       "      <td>1</td>\n",
       "      <td>fantasy</td>\n",
       "    </tr>\n",
       "    <tr>\n",
       "      <th>4</th>\n",
       "      <td>tm120801</td>\n",
       "      <td>The Dirty Dozen</td>\n",
       "      <td>MOVIE</td>\n",
       "      <td>1967</td>\n",
       "      <td>150</td>\n",
       "      <td>NaN</td>\n",
       "      <td>tt0061578</td>\n",
       "      <td>7.7</td>\n",
       "      <td>72662.0</td>\n",
       "      <td>20.398</td>\n",
       "      <td>7.600</td>\n",
       "      <td>GB</td>\n",
       "      <td>2</td>\n",
       "      <td>war</td>\n",
       "    </tr>\n",
       "  </tbody>\n",
       "</table>\n",
       "</div>"
      ],
      "text/plain": [
       "         id                                title   type  release_year  \\\n",
       "0  ts300399  Five Came Back: The Reference Films   SHOW          1945   \n",
       "1   tm84618                          Taxi Driver  MOVIE          1976   \n",
       "2  tm154986                          Deliverance  MOVIE          1972   \n",
       "3  tm127384      Monty Python and the Holy Grail  MOVIE          1975   \n",
       "4  tm120801                      The Dirty Dozen  MOVIE          1967   \n",
       "\n",
       "   runtime  seasons    imdb_id  imdb_score  imdb_votes  tmdb_popularity  \\\n",
       "0       51      1.0        NaN         NaN         NaN            0.600   \n",
       "1      114      NaN  tt0075314         8.2    808582.0           40.965   \n",
       "2      109      NaN  tt0068473         7.7    107673.0           10.010   \n",
       "3       91      NaN  tt0071853         8.2    534486.0           15.461   \n",
       "4      150      NaN  tt0061578         7.7     72662.0           20.398   \n",
       "\n",
       "   tmdb_score lead_prod_country  prod_countries_cnt     main_genre  \n",
       "0         NaN                US                   1  documentation  \n",
       "1       8.179                US                   1          drama  \n",
       "2       7.300                US                   1          drama  \n",
       "3       7.811                GB                   1        fantasy  \n",
       "4       7.600                GB                   2            war  "
      ]
     },
     "execution_count": 82,
     "metadata": {},
     "output_type": "execute_result"
    }
   ],
   "source": [
    "df_movies.head()"
   ]
  },
  {
   "cell_type": "markdown",
   "metadata": {},
   "source": [
    "#### As we see, variable seasons has so many NaN values, because movies do not have seasons. Let's put a 0 here."
   ]
  },
  {
   "cell_type": "code",
   "execution_count": 83,
   "metadata": {
    "execution": {
     "iopub.execute_input": "2022-12-07T16:30:05.666116Z",
     "iopub.status.busy": "2022-12-07T16:30:05.665814Z",
     "iopub.status.idle": "2022-12-07T16:30:05.680976Z",
     "shell.execute_reply": "2022-12-07T16:30:05.679986Z",
     "shell.execute_reply.started": "2022-12-07T16:30:05.666090Z"
    }
   },
   "outputs": [],
   "source": [
    "df_movies.loc[df_movies['type'] == 'MOVIE', ['seasons']] = 0"
   ]
  },
  {
   "cell_type": "markdown",
   "metadata": {},
   "source": [
    "<a id=\"3\"></a> <br>\n",
    "# Feature Engeneeruing"
   ]
  },
  {
   "cell_type": "markdown",
   "metadata": {},
   "source": [
    "#### Okay, seems like data is more or less clean. Now we're going to transform it for the future clusterisation models.\n"
   ]
  },
  {
   "cell_type": "code",
   "execution_count": 84,
   "metadata": {
    "execution": {
     "iopub.execute_input": "2022-12-07T16:30:05.683855Z",
     "iopub.status.busy": "2022-12-07T16:30:05.682573Z",
     "iopub.status.idle": "2022-12-07T16:30:05.703717Z",
     "shell.execute_reply": "2022-12-07T16:30:05.702185Z",
     "shell.execute_reply.started": "2022-12-07T16:30:05.683810Z"
    }
   },
   "outputs": [
    {
     "data": {
      "text/plain": [
       "id                       0\n",
       "title                    1\n",
       "type                     0\n",
       "release_year             0\n",
       "runtime                  0\n",
       "seasons                  0\n",
       "imdb_id               1394\n",
       "imdb_score            1873\n",
       "imdb_votes            1910\n",
       "tmdb_popularity        670\n",
       "tmdb_score            2656\n",
       "lead_prod_country     1160\n",
       "prod_countries_cnt       0\n",
       "main_genre             321\n",
       "dtype: int64"
      ]
     },
     "execution_count": 84,
     "metadata": {},
     "output_type": "execute_result"
    }
   ],
   "source": [
    "df_movies.isna().sum()"
   ]
  },
  {
   "cell_type": "markdown",
   "metadata": {},
   "source": [
    "#### And starting with getting rid of some NaN value that are still left in our dataset."
   ]
  },
  {
   "cell_type": "code",
   "execution_count": 85,
   "metadata": {
    "execution": {
     "iopub.execute_input": "2022-12-07T16:30:05.705888Z",
     "iopub.status.busy": "2022-12-07T16:30:05.705443Z",
     "iopub.status.idle": "2022-12-07T16:30:05.722303Z",
     "shell.execute_reply": "2022-12-07T16:30:05.721322Z",
     "shell.execute_reply.started": "2022-12-07T16:30:05.705848Z"
    }
   },
   "outputs": [],
   "source": [
    "df_movies.dropna(inplace=True)"
   ]
  },
  {
   "cell_type": "markdown",
   "metadata": {},
   "source": [
    "#### Also, set the name of the movie as an index"
   ]
  },
  {
   "cell_type": "code",
   "execution_count": 86,
   "metadata": {
    "execution": {
     "iopub.execute_input": "2022-12-07T16:30:05.723894Z",
     "iopub.status.busy": "2022-12-07T16:30:05.723516Z",
     "iopub.status.idle": "2022-12-07T16:30:05.745474Z",
     "shell.execute_reply": "2022-12-07T16:30:05.744329Z",
     "shell.execute_reply.started": "2022-12-07T16:30:05.723853Z"
    }
   },
   "outputs": [
    {
     "data": {
      "text/html": [
       "<div>\n",
       "<style scoped>\n",
       "    .dataframe tbody tr th:only-of-type {\n",
       "        vertical-align: middle;\n",
       "    }\n",
       "\n",
       "    .dataframe tbody tr th {\n",
       "        vertical-align: top;\n",
       "    }\n",
       "\n",
       "    .dataframe thead th {\n",
       "        text-align: right;\n",
       "    }\n",
       "</style>\n",
       "<table border=\"1\" class=\"dataframe\">\n",
       "  <thead>\n",
       "    <tr style=\"text-align: right;\">\n",
       "      <th></th>\n",
       "      <th>id</th>\n",
       "      <th>type</th>\n",
       "      <th>release_year</th>\n",
       "      <th>runtime</th>\n",
       "      <th>seasons</th>\n",
       "      <th>imdb_id</th>\n",
       "      <th>imdb_score</th>\n",
       "      <th>imdb_votes</th>\n",
       "      <th>tmdb_popularity</th>\n",
       "      <th>tmdb_score</th>\n",
       "      <th>lead_prod_country</th>\n",
       "      <th>prod_countries_cnt</th>\n",
       "      <th>main_genre</th>\n",
       "    </tr>\n",
       "    <tr>\n",
       "      <th>title</th>\n",
       "      <th></th>\n",
       "      <th></th>\n",
       "      <th></th>\n",
       "      <th></th>\n",
       "      <th></th>\n",
       "      <th></th>\n",
       "      <th></th>\n",
       "      <th></th>\n",
       "      <th></th>\n",
       "      <th></th>\n",
       "      <th></th>\n",
       "      <th></th>\n",
       "      <th></th>\n",
       "    </tr>\n",
       "  </thead>\n",
       "  <tbody>\n",
       "    <tr>\n",
       "      <th>Taxi Driver</th>\n",
       "      <td>tm84618</td>\n",
       "      <td>MOVIE</td>\n",
       "      <td>1976</td>\n",
       "      <td>114</td>\n",
       "      <td>0.0</td>\n",
       "      <td>tt0075314</td>\n",
       "      <td>8.2</td>\n",
       "      <td>808582.0</td>\n",
       "      <td>40.965</td>\n",
       "      <td>8.179</td>\n",
       "      <td>US</td>\n",
       "      <td>1</td>\n",
       "      <td>drama</td>\n",
       "    </tr>\n",
       "    <tr>\n",
       "      <th>Deliverance</th>\n",
       "      <td>tm154986</td>\n",
       "      <td>MOVIE</td>\n",
       "      <td>1972</td>\n",
       "      <td>109</td>\n",
       "      <td>0.0</td>\n",
       "      <td>tt0068473</td>\n",
       "      <td>7.7</td>\n",
       "      <td>107673.0</td>\n",
       "      <td>10.010</td>\n",
       "      <td>7.300</td>\n",
       "      <td>US</td>\n",
       "      <td>1</td>\n",
       "      <td>drama</td>\n",
       "    </tr>\n",
       "    <tr>\n",
       "      <th>Monty Python and the Holy Grail</th>\n",
       "      <td>tm127384</td>\n",
       "      <td>MOVIE</td>\n",
       "      <td>1975</td>\n",
       "      <td>91</td>\n",
       "      <td>0.0</td>\n",
       "      <td>tt0071853</td>\n",
       "      <td>8.2</td>\n",
       "      <td>534486.0</td>\n",
       "      <td>15.461</td>\n",
       "      <td>7.811</td>\n",
       "      <td>GB</td>\n",
       "      <td>1</td>\n",
       "      <td>fantasy</td>\n",
       "    </tr>\n",
       "    <tr>\n",
       "      <th>The Dirty Dozen</th>\n",
       "      <td>tm120801</td>\n",
       "      <td>MOVIE</td>\n",
       "      <td>1967</td>\n",
       "      <td>150</td>\n",
       "      <td>0.0</td>\n",
       "      <td>tt0061578</td>\n",
       "      <td>7.7</td>\n",
       "      <td>72662.0</td>\n",
       "      <td>20.398</td>\n",
       "      <td>7.600</td>\n",
       "      <td>GB</td>\n",
       "      <td>2</td>\n",
       "      <td>war</td>\n",
       "    </tr>\n",
       "    <tr>\n",
       "      <th>Monty Python's Flying Circus</th>\n",
       "      <td>ts22164</td>\n",
       "      <td>SHOW</td>\n",
       "      <td>1969</td>\n",
       "      <td>30</td>\n",
       "      <td>4.0</td>\n",
       "      <td>tt0063929</td>\n",
       "      <td>8.8</td>\n",
       "      <td>73424.0</td>\n",
       "      <td>17.617</td>\n",
       "      <td>8.306</td>\n",
       "      <td>GB</td>\n",
       "      <td>1</td>\n",
       "      <td>comedy</td>\n",
       "    </tr>\n",
       "  </tbody>\n",
       "</table>\n",
       "</div>"
      ],
      "text/plain": [
       "                                       id   type  release_year  runtime  \\\n",
       "title                                                                     \n",
       "Taxi Driver                       tm84618  MOVIE          1976      114   \n",
       "Deliverance                      tm154986  MOVIE          1972      109   \n",
       "Monty Python and the Holy Grail  tm127384  MOVIE          1975       91   \n",
       "The Dirty Dozen                  tm120801  MOVIE          1967      150   \n",
       "Monty Python's Flying Circus      ts22164   SHOW          1969       30   \n",
       "\n",
       "                                 seasons    imdb_id  imdb_score  imdb_votes  \\\n",
       "title                                                                         \n",
       "Taxi Driver                          0.0  tt0075314         8.2    808582.0   \n",
       "Deliverance                          0.0  tt0068473         7.7    107673.0   \n",
       "Monty Python and the Holy Grail      0.0  tt0071853         8.2    534486.0   \n",
       "The Dirty Dozen                      0.0  tt0061578         7.7     72662.0   \n",
       "Monty Python's Flying Circus         4.0  tt0063929         8.8     73424.0   \n",
       "\n",
       "                                 tmdb_popularity  tmdb_score  \\\n",
       "title                                                          \n",
       "Taxi Driver                               40.965       8.179   \n",
       "Deliverance                               10.010       7.300   \n",
       "Monty Python and the Holy Grail           15.461       7.811   \n",
       "The Dirty Dozen                           20.398       7.600   \n",
       "Monty Python's Flying Circus              17.617       8.306   \n",
       "\n",
       "                                lead_prod_country  prod_countries_cnt  \\\n",
       "title                                                                   \n",
       "Taxi Driver                                    US                   1   \n",
       "Deliverance                                    US                   1   \n",
       "Monty Python and the Holy Grail                GB                   1   \n",
       "The Dirty Dozen                                GB                   2   \n",
       "Monty Python's Flying Circus                   GB                   1   \n",
       "\n",
       "                                main_genre  \n",
       "title                                       \n",
       "Taxi Driver                          drama  \n",
       "Deliverance                          drama  \n",
       "Monty Python and the Holy Grail    fantasy  \n",
       "The Dirty Dozen                        war  \n",
       "Monty Python's Flying Circus        comedy  "
      ]
     },
     "execution_count": 86,
     "metadata": {},
     "output_type": "execute_result"
    }
   ],
   "source": [
    "df_movies.set_index('title', inplace=True)\n",
    "df_movies.head()"
   ]
  },
  {
   "cell_type": "markdown",
   "metadata": {},
   "source": [
    "#### Now let's drop variables that don't have any semantic load -- the ID of the movies and TV shows on different platforms."
   ]
  },
  {
   "cell_type": "code",
   "execution_count": 87,
   "metadata": {
    "execution": {
     "iopub.execute_input": "2022-12-07T16:30:05.747048Z",
     "iopub.status.busy": "2022-12-07T16:30:05.746744Z",
     "iopub.status.idle": "2022-12-07T16:30:05.760879Z",
     "shell.execute_reply": "2022-12-07T16:30:05.759659Z",
     "shell.execute_reply.started": "2022-12-07T16:30:05.747021Z"
    }
   },
   "outputs": [],
   "source": [
    "df_movies.drop(['id', 'imdb_id'], axis=1, inplace=True)"
   ]
  },
  {
   "cell_type": "code",
   "execution_count": 88,
   "metadata": {
    "execution": {
     "iopub.execute_input": "2022-12-07T16:30:05.762486Z",
     "iopub.status.busy": "2022-12-07T16:30:05.762157Z",
     "iopub.status.idle": "2022-12-07T16:30:05.772413Z",
     "shell.execute_reply": "2022-12-07T16:30:05.771322Z",
     "shell.execute_reply.started": "2022-12-07T16:30:05.762458Z"
    }
   },
   "outputs": [
    {
     "data": {
      "text/plain": [
       "type                   object\n",
       "release_year            int64\n",
       "runtime                 int64\n",
       "seasons               float64\n",
       "imdb_score            float64\n",
       "imdb_votes            float64\n",
       "tmdb_popularity       float64\n",
       "tmdb_score            float64\n",
       "lead_prod_country      object\n",
       "prod_countries_cnt      int64\n",
       "main_genre             object\n",
       "dtype: object"
      ]
     },
     "execution_count": 88,
     "metadata": {},
     "output_type": "execute_result"
    }
   ],
   "source": [
    "df_movies.dtypes"
   ]
  },
  {
   "cell_type": "markdown",
   "metadata": {},
   "source": [
    "#### For the three categorical variables that we have now, we create dummy variable -- to represent them as 1s and 0s"
   ]
  },
  {
   "cell_type": "code",
   "execution_count": 89,
   "metadata": {
    "execution": {
     "iopub.execute_input": "2022-12-07T16:30:05.774046Z",
     "iopub.status.busy": "2022-12-07T16:30:05.773742Z",
     "iopub.status.idle": "2022-12-07T16:30:05.823512Z",
     "shell.execute_reply": "2022-12-07T16:30:05.822330Z",
     "shell.execute_reply.started": "2022-12-07T16:30:05.774019Z"
    }
   },
   "outputs": [],
   "source": [
    "dummies = pd.get_dummies(df_movies[['type', 'lead_prod_country', 'main_genre']], drop_first=True)\n",
    "df_movies_dum = pd.concat([df_movies, dummies], axis=1)\n",
    "df_movies_dum.drop(['type', 'lead_prod_country', 'main_genre'], axis=1, inplace=True)"
   ]
  },
  {
   "cell_type": "markdown",
   "metadata": {},
   "source": [
    "#### Now rescale all the variables, so that they fit between 0 and 1"
   ]
  },
  {
   "cell_type": "code",
   "execution_count": 90,
   "metadata": {
    "execution": {
     "iopub.execute_input": "2022-12-07T16:30:05.825210Z",
     "iopub.status.busy": "2022-12-07T16:30:05.824901Z",
     "iopub.status.idle": "2022-12-07T16:30:06.295940Z",
     "shell.execute_reply": "2022-12-07T16:30:06.294888Z",
     "shell.execute_reply.started": "2022-12-07T16:30:05.825182Z"
    }
   },
   "outputs": [
    {
     "data": {
      "text/html": [
       "<div>\n",
       "<style scoped>\n",
       "    .dataframe tbody tr th:only-of-type {\n",
       "        vertical-align: middle;\n",
       "    }\n",
       "\n",
       "    .dataframe tbody tr th {\n",
       "        vertical-align: top;\n",
       "    }\n",
       "\n",
       "    .dataframe thead th {\n",
       "        text-align: right;\n",
       "    }\n",
       "</style>\n",
       "<table border=\"1\" class=\"dataframe\">\n",
       "  <thead>\n",
       "    <tr style=\"text-align: right;\">\n",
       "      <th></th>\n",
       "      <th>count</th>\n",
       "      <th>mean</th>\n",
       "      <th>std</th>\n",
       "      <th>min</th>\n",
       "      <th>25%</th>\n",
       "      <th>50%</th>\n",
       "      <th>75%</th>\n",
       "      <th>max</th>\n",
       "    </tr>\n",
       "  </thead>\n",
       "  <tbody>\n",
       "    <tr>\n",
       "      <th>release_year</th>\n",
       "      <td>14855.0</td>\n",
       "      <td>0.845746</td>\n",
       "      <td>0.205678</td>\n",
       "      <td>0.0</td>\n",
       "      <td>0.827273</td>\n",
       "      <td>0.936364</td>\n",
       "      <td>0.972727</td>\n",
       "      <td>1.0</td>\n",
       "    </tr>\n",
       "    <tr>\n",
       "      <th>runtime</th>\n",
       "      <td>14855.0</td>\n",
       "      <td>0.260577</td>\n",
       "      <td>0.106555</td>\n",
       "      <td>0.0</td>\n",
       "      <td>0.182927</td>\n",
       "      <td>0.274390</td>\n",
       "      <td>0.320122</td>\n",
       "      <td>1.0</td>\n",
       "    </tr>\n",
       "    <tr>\n",
       "      <th>seasons</th>\n",
       "      <td>14855.0</td>\n",
       "      <td>0.011753</td>\n",
       "      <td>0.039719</td>\n",
       "      <td>0.0</td>\n",
       "      <td>0.000000</td>\n",
       "      <td>0.000000</td>\n",
       "      <td>0.000000</td>\n",
       "      <td>1.0</td>\n",
       "    </tr>\n",
       "    <tr>\n",
       "      <th>imdb_score</th>\n",
       "      <td>14855.0</td>\n",
       "      <td>0.592880</td>\n",
       "      <td>0.143532</td>\n",
       "      <td>0.0</td>\n",
       "      <td>0.500000</td>\n",
       "      <td>0.602273</td>\n",
       "      <td>0.693182</td>\n",
       "      <td>1.0</td>\n",
       "    </tr>\n",
       "    <tr>\n",
       "      <th>imdb_votes</th>\n",
       "      <td>14855.0</td>\n",
       "      <td>0.010198</td>\n",
       "      <td>0.040940</td>\n",
       "      <td>0.0</td>\n",
       "      <td>0.000146</td>\n",
       "      <td>0.000653</td>\n",
       "      <td>0.003660</td>\n",
       "      <td>1.0</td>\n",
       "    </tr>\n",
       "    <tr>\n",
       "      <th>...</th>\n",
       "      <td>...</td>\n",
       "      <td>...</td>\n",
       "      <td>...</td>\n",
       "      <td>...</td>\n",
       "      <td>...</td>\n",
       "      <td>...</td>\n",
       "      <td>...</td>\n",
       "      <td>...</td>\n",
       "    </tr>\n",
       "    <tr>\n",
       "      <th>main_genre_scifi</th>\n",
       "      <td>14855.0</td>\n",
       "      <td>0.044362</td>\n",
       "      <td>0.205905</td>\n",
       "      <td>0.0</td>\n",
       "      <td>0.000000</td>\n",
       "      <td>0.000000</td>\n",
       "      <td>0.000000</td>\n",
       "      <td>1.0</td>\n",
       "    </tr>\n",
       "    <tr>\n",
       "      <th>main_genre_sport</th>\n",
       "      <td>14855.0</td>\n",
       "      <td>0.000808</td>\n",
       "      <td>0.028411</td>\n",
       "      <td>0.0</td>\n",
       "      <td>0.000000</td>\n",
       "      <td>0.000000</td>\n",
       "      <td>0.000000</td>\n",
       "      <td>1.0</td>\n",
       "    </tr>\n",
       "    <tr>\n",
       "      <th>main_genre_thriller</th>\n",
       "      <td>14855.0</td>\n",
       "      <td>0.100909</td>\n",
       "      <td>0.301218</td>\n",
       "      <td>0.0</td>\n",
       "      <td>0.000000</td>\n",
       "      <td>0.000000</td>\n",
       "      <td>0.000000</td>\n",
       "      <td>1.0</td>\n",
       "    </tr>\n",
       "    <tr>\n",
       "      <th>main_genre_war</th>\n",
       "      <td>14855.0</td>\n",
       "      <td>0.006328</td>\n",
       "      <td>0.079298</td>\n",
       "      <td>0.0</td>\n",
       "      <td>0.000000</td>\n",
       "      <td>0.000000</td>\n",
       "      <td>0.000000</td>\n",
       "      <td>1.0</td>\n",
       "    </tr>\n",
       "    <tr>\n",
       "      <th>main_genre_western</th>\n",
       "      <td>14855.0</td>\n",
       "      <td>0.022753</td>\n",
       "      <td>0.149121</td>\n",
       "      <td>0.0</td>\n",
       "      <td>0.000000</td>\n",
       "      <td>0.000000</td>\n",
       "      <td>0.000000</td>\n",
       "      <td>1.0</td>\n",
       "    </tr>\n",
       "  </tbody>\n",
       "</table>\n",
       "<p>146 rows × 8 columns</p>\n",
       "</div>"
      ],
      "text/plain": [
       "                       count      mean       std  min       25%       50%  \\\n",
       "release_year         14855.0  0.845746  0.205678  0.0  0.827273  0.936364   \n",
       "runtime              14855.0  0.260577  0.106555  0.0  0.182927  0.274390   \n",
       "seasons              14855.0  0.011753  0.039719  0.0  0.000000  0.000000   \n",
       "imdb_score           14855.0  0.592880  0.143532  0.0  0.500000  0.602273   \n",
       "imdb_votes           14855.0  0.010198  0.040940  0.0  0.000146  0.000653   \n",
       "...                      ...       ...       ...  ...       ...       ...   \n",
       "main_genre_scifi     14855.0  0.044362  0.205905  0.0  0.000000  0.000000   \n",
       "main_genre_sport     14855.0  0.000808  0.028411  0.0  0.000000  0.000000   \n",
       "main_genre_thriller  14855.0  0.100909  0.301218  0.0  0.000000  0.000000   \n",
       "main_genre_war       14855.0  0.006328  0.079298  0.0  0.000000  0.000000   \n",
       "main_genre_western   14855.0  0.022753  0.149121  0.0  0.000000  0.000000   \n",
       "\n",
       "                          75%  max  \n",
       "release_year         0.972727  1.0  \n",
       "runtime              0.320122  1.0  \n",
       "seasons              0.000000  1.0  \n",
       "imdb_score           0.693182  1.0  \n",
       "imdb_votes           0.003660  1.0  \n",
       "...                       ...  ...  \n",
       "main_genre_scifi     0.000000  1.0  \n",
       "main_genre_sport     0.000000  1.0  \n",
       "main_genre_thriller  0.000000  1.0  \n",
       "main_genre_war       0.000000  1.0  \n",
       "main_genre_western   0.000000  1.0  \n",
       "\n",
       "[146 rows x 8 columns]"
      ]
     },
     "execution_count": 90,
     "metadata": {},
     "output_type": "execute_result"
    }
   ],
   "source": [
    "scaler = MinMaxScaler()\n",
    "df_scaled = scaler.fit_transform(df_movies_dum)\n",
    "df_scaled = pd.DataFrame(df_scaled, columns=[df_movies_dum.columns])\n",
    "df_scaled.describe().T"
   ]
  },
  {
   "cell_type": "code",
   "execution_count": 91,
   "metadata": {
    "execution": {
     "iopub.execute_input": "2022-12-07T16:30:06.297746Z",
     "iopub.status.busy": "2022-12-07T16:30:06.297420Z",
     "iopub.status.idle": "2022-12-07T16:30:06.304399Z",
     "shell.execute_reply": "2022-12-07T16:30:06.303325Z",
     "shell.execute_reply.started": "2022-12-07T16:30:06.297716Z"
    }
   },
   "outputs": [
    {
     "data": {
      "text/plain": [
       "(14855, 146)"
      ]
     },
     "execution_count": 91,
     "metadata": {},
     "output_type": "execute_result"
    }
   ],
   "source": [
    "df_scaled.shape"
   ]
  },
  {
   "cell_type": "markdown",
   "metadata": {},
   "source": [
    "#### After the encoding we've got 146 variables, which is a relatevely big number. Let's use principal component analysis and see, if we can reduce number of features without much quality loss."
   ]
  },
  {
   "cell_type": "code",
   "execution_count": 92,
   "metadata": {
    "execution": {
     "iopub.execute_input": "2022-12-07T16:30:06.306365Z",
     "iopub.status.busy": "2022-12-07T16:30:06.306021Z",
     "iopub.status.idle": "2022-12-07T16:30:06.603135Z",
     "shell.execute_reply": "2022-12-07T16:30:06.601543Z",
     "shell.execute_reply.started": "2022-12-07T16:30:06.306335Z"
    }
   },
   "outputs": [],
   "source": [
    "from sklearn.decomposition import PCA\n",
    "\n",
    "pca = PCA(n_components=143, svd_solver='full')\n",
    "df_scaled_full = pca.fit(df_scaled).transform(df_scaled)\n",
    "\n",
    "explained_variance = np.round(np.cumsum(pca.explained_variance_ratio_),3)"
   ]
  },
  {
   "cell_type": "code",
   "execution_count": 93,
   "metadata": {
    "execution": {
     "iopub.execute_input": "2022-12-07T16:30:06.606490Z",
     "iopub.status.busy": "2022-12-07T16:30:06.604873Z",
     "iopub.status.idle": "2022-12-07T16:30:06.893113Z",
     "shell.execute_reply": "2022-12-07T16:30:06.892020Z",
     "shell.execute_reply.started": "2022-12-07T16:30:06.606446Z"
    }
   },
   "outputs": [
    {
     "data": {
      "image/png": "[encoded data removed]",
      "text/plain": [
       "<Figure size 720x432 with 1 Axes>"
      ]
     },
     "metadata": {
      "needs_background": "light"
     },
     "output_type": "display_data"
    }
   ],
   "source": [
    "plt.figure(figsize=(10,6))\n",
    "plt.title('\\nScree plot\\n', fontsize=18)\n",
    "plt.plot(np.arange(143), explained_variance, color='#D05C9C')\n",
    "plt.xlabel('Principal Component')\n",
    "plt.ylabel('Eigenvalues')\n",
    "plt.show()"
   ]
  },
  {
   "cell_type": "code",
   "execution_count": 94,
   "metadata": {},
   "outputs": [],
   "source": [
    "# As we can see from the scree plot, it will be absolutely safe to decrese number of variables to 60, without almost no quality loss.¶\n",
    "\n",
    "pca_60 = PCA(n_components=60, svd_solver='full')\n",
    "df_scaled_60 = pca.fit(df_scaled).transform(df_scaled)"
   ]
  },
  {
   "cell_type": "markdown",
   "metadata": {},
   "source": [
    "<a id=\"5\"></a> <br>\n",
    "# DBSCAN "
   ]
  },
  {
   "cell_type": "code",
   "execution_count": 95,
   "metadata": {
    "execution": {
     "iopub.execute_input": "2022-12-07T16:36:39.145327Z",
     "iopub.status.busy": "2022-12-07T16:36:39.144877Z",
     "iopub.status.idle": "2022-12-07T16:36:39.454102Z",
     "shell.execute_reply": "2022-12-07T16:36:39.452342Z",
     "shell.execute_reply.started": "2022-12-07T16:36:39.145285Z"
    }
   },
   "outputs": [],
   "source": [
    "from sklearn.decomposition import PCA\n",
    "pca_10d = PCA(n_components=10)\n",
    "PCs_10d = pd.DataFrame(pca_10d.fit_transform(df_scaled_60))\n",
    "\n",
    "eps_array = [0.2, 0.5, 1]\n",
    "min_samples_array = [5, 10, 30]"
   ]
  },
  {
   "cell_type": "code",
   "execution_count": 96,
   "metadata": {
    "execution": {
     "iopub.execute_input": "2022-12-07T16:36:39.457619Z",
     "iopub.status.busy": "2022-12-07T16:36:39.456879Z",
     "iopub.status.idle": "2022-12-07T16:37:07.484641Z",
     "shell.execute_reply": "2022-12-07T16:37:07.483657Z",
     "shell.execute_reply.started": "2022-12-07T16:36:39.457550Z"
    }
   },
   "outputs": [
    {
     "name": "stdout",
     "output_type": "stream",
     "text": [
      "For eps = 0.2 For min_samples = 5 Count clusters = 64 The average silhouette_score is : 0.7658888786909586\n",
      "For eps = 0.2 For min_samples = 10 Count clusters = 59 The average silhouette_score is : 0.7683358679013843\n",
      "For eps = 0.2 For min_samples = 30 Count clusters = 49 The average silhouette_score is : 0.7622475287877991\n",
      "For eps = 0.5 For min_samples = 5 Count clusters = 49 The average silhouette_score is : 0.7503039712249246\n",
      "For eps = 0.5 For min_samples = 10 Count clusters = 47 The average silhouette_score is : 0.7490704165338906\n",
      "For eps = 0.5 For min_samples = 30 Count clusters = 39 The average silhouette_score is : 0.740143430378516\n"
     ]
    }
   ],
   "source": [
    "for eps in eps_array:\n",
    "  for min_samples in min_samples_array:\n",
    "    clusterer = DBSCAN(eps=eps, min_samples=min_samples).fit(PCs_10d)\n",
    "    cluster_labels = clusterer.labels_\n",
    "    if len(set(cluster_labels)) == 1:\n",
    "        continue\n",
    "    silhouette_avg = silhouette_score(PCs_10d, cluster_labels)\n",
    "    print(\"For eps =\", eps,\n",
    "          \"For min_samples =\", min_samples,\n",
    "          \"Count clusters =\", len(set(cluster_labels)),\n",
    "          \"The average silhouette_score is :\", silhouette_avg)"
   ]
  },
  {
   "cell_type": "code",
   "execution_count": 97,
   "metadata": {
    "execution": {
     "iopub.execute_input": "2022-12-07T16:37:07.486451Z",
     "iopub.status.busy": "2022-12-07T16:37:07.485997Z",
     "iopub.status.idle": "2022-12-07T16:37:10.741424Z",
     "shell.execute_reply": "2022-12-07T16:37:10.740145Z",
     "shell.execute_reply.started": "2022-12-07T16:37:07.486410Z"
    }
   },
   "outputs": [
    {
     "name": "stdout",
     "output_type": "stream",
     "text": [
      "For eps = 0.2 For min_samples = 10 Count clusters = 59 The average silhouette_score is : 0.7683358679013843\n"
     ]
    }
   ],
   "source": [
    "dbscan10d_model = DBSCAN(eps=0.2, min_samples=10).fit(PCs_10d)\n",
    "print(\"For eps =\", 0.2,\n",
    "      \"For min_samples =\", 10,\n",
    "      \"Count clusters =\", len(set(dbscan10d_model.labels_)),\n",
    "      \"The average silhouette_score is :\", silhouette_score(PCs_10d, dbscan10d_model.labels_))"
   ]
  },
  {
   "cell_type": "markdown",
   "metadata": {},
   "source": [
    "#### 10 Dimentions DBSCAN shows an acceptable score of 0.768. Guess, we can work with that.\n",
    "#### Let's put the clustering results in the initial movies table."
   ]
  },
  {
   "cell_type": "code",
   "execution_count": 98,
   "metadata": {
    "execution": {
     "iopub.execute_input": "2022-12-07T16:37:10.743395Z",
     "iopub.status.busy": "2022-12-07T16:37:10.742933Z",
     "iopub.status.idle": "2022-12-07T16:37:10.750695Z",
     "shell.execute_reply": "2022-12-07T16:37:10.749339Z",
     "shell.execute_reply.started": "2022-12-07T16:37:10.743352Z"
    }
   },
   "outputs": [],
   "source": [
    "df_movies['dbscan_10d_clusters'] = dbscan10d_model.labels_"
   ]
  },
  {
   "cell_type": "code",
   "execution_count": 59,
   "metadata": {},
   "outputs": [
    {
     "data": {
      "text/html": [
       "<div>\n",
       "<style scoped>\n",
       "    .dataframe tbody tr th:only-of-type {\n",
       "        vertical-align: middle;\n",
       "    }\n",
       "\n",
       "    .dataframe tbody tr th {\n",
       "        vertical-align: top;\n",
       "    }\n",
       "\n",
       "    .dataframe thead th {\n",
       "        text-align: right;\n",
       "    }\n",
       "</style>\n",
       "<table border=\"1\" class=\"dataframe\">\n",
       "  <thead>\n",
       "    <tr style=\"text-align: right;\">\n",
       "      <th></th>\n",
       "      <th>type</th>\n",
       "      <th>release_year</th>\n",
       "      <th>runtime</th>\n",
       "      <th>seasons</th>\n",
       "      <th>imdb_score</th>\n",
       "      <th>imdb_votes</th>\n",
       "      <th>tmdb_popularity</th>\n",
       "      <th>tmdb_score</th>\n",
       "      <th>lead_prod_country</th>\n",
       "      <th>prod_countries_cnt</th>\n",
       "      <th>main_genre</th>\n",
       "      <th>dbscan_10d_clusters</th>\n",
       "    </tr>\n",
       "    <tr>\n",
       "      <th>title</th>\n",
       "      <th></th>\n",
       "      <th></th>\n",
       "      <th></th>\n",
       "      <th></th>\n",
       "      <th></th>\n",
       "      <th></th>\n",
       "      <th></th>\n",
       "      <th></th>\n",
       "      <th></th>\n",
       "      <th></th>\n",
       "      <th></th>\n",
       "      <th></th>\n",
       "    </tr>\n",
       "  </thead>\n",
       "  <tbody>\n",
       "    <tr>\n",
       "      <th>Taxi Driver</th>\n",
       "      <td>MOVIE</td>\n",
       "      <td>1976</td>\n",
       "      <td>114</td>\n",
       "      <td>0.0</td>\n",
       "      <td>8.2</td>\n",
       "      <td>808582.0</td>\n",
       "      <td>40.965</td>\n",
       "      <td>8.179</td>\n",
       "      <td>US</td>\n",
       "      <td>1</td>\n",
       "      <td>drama</td>\n",
       "      <td>0</td>\n",
       "    </tr>\n",
       "    <tr>\n",
       "      <th>Deliverance</th>\n",
       "      <td>MOVIE</td>\n",
       "      <td>1972</td>\n",
       "      <td>109</td>\n",
       "      <td>0.0</td>\n",
       "      <td>7.7</td>\n",
       "      <td>107673.0</td>\n",
       "      <td>10.010</td>\n",
       "      <td>7.300</td>\n",
       "      <td>US</td>\n",
       "      <td>1</td>\n",
       "      <td>drama</td>\n",
       "      <td>0</td>\n",
       "    </tr>\n",
       "    <tr>\n",
       "      <th>Monty Python and the Holy Grail</th>\n",
       "      <td>MOVIE</td>\n",
       "      <td>1975</td>\n",
       "      <td>91</td>\n",
       "      <td>0.0</td>\n",
       "      <td>8.2</td>\n",
       "      <td>534486.0</td>\n",
       "      <td>15.461</td>\n",
       "      <td>7.811</td>\n",
       "      <td>GB</td>\n",
       "      <td>1</td>\n",
       "      <td>fantasy</td>\n",
       "      <td>1</td>\n",
       "    </tr>\n",
       "    <tr>\n",
       "      <th>The Dirty Dozen</th>\n",
       "      <td>MOVIE</td>\n",
       "      <td>1967</td>\n",
       "      <td>150</td>\n",
       "      <td>0.0</td>\n",
       "      <td>7.7</td>\n",
       "      <td>72662.0</td>\n",
       "      <td>20.398</td>\n",
       "      <td>7.600</td>\n",
       "      <td>GB</td>\n",
       "      <td>2</td>\n",
       "      <td>war</td>\n",
       "      <td>1</td>\n",
       "    </tr>\n",
       "    <tr>\n",
       "      <th>Monty Python's Flying Circus</th>\n",
       "      <td>SHOW</td>\n",
       "      <td>1969</td>\n",
       "      <td>30</td>\n",
       "      <td>4.0</td>\n",
       "      <td>8.8</td>\n",
       "      <td>73424.0</td>\n",
       "      <td>17.617</td>\n",
       "      <td>8.306</td>\n",
       "      <td>GB</td>\n",
       "      <td>1</td>\n",
       "      <td>comedy</td>\n",
       "      <td>2</td>\n",
       "    </tr>\n",
       "    <tr>\n",
       "      <th>...</th>\n",
       "      <td>...</td>\n",
       "      <td>...</td>\n",
       "      <td>...</td>\n",
       "      <td>...</td>\n",
       "      <td>...</td>\n",
       "      <td>...</td>\n",
       "      <td>...</td>\n",
       "      <td>...</td>\n",
       "      <td>...</td>\n",
       "      <td>...</td>\n",
       "      <td>...</td>\n",
       "      <td>...</td>\n",
       "    </tr>\n",
       "    <tr>\n",
       "      <th>Covid Diaries NYC</th>\n",
       "      <td>MOVIE</td>\n",
       "      <td>2021</td>\n",
       "      <td>40</td>\n",
       "      <td>0.0</td>\n",
       "      <td>3.7</td>\n",
       "      <td>184.0</td>\n",
       "      <td>5.720</td>\n",
       "      <td>5.900</td>\n",
       "      <td>US</td>\n",
       "      <td>1</td>\n",
       "      <td>documentation</td>\n",
       "      <td>42</td>\n",
       "    </tr>\n",
       "    <tr>\n",
       "      <th>Breathless</th>\n",
       "      <td>MOVIE</td>\n",
       "      <td>2021</td>\n",
       "      <td>106</td>\n",
       "      <td>0.0</td>\n",
       "      <td>6.3</td>\n",
       "      <td>27.0</td>\n",
       "      <td>69.940</td>\n",
       "      <td>5.900</td>\n",
       "      <td>DO</td>\n",
       "      <td>1</td>\n",
       "      <td>crime</td>\n",
       "      <td>9</td>\n",
       "    </tr>\n",
       "    <tr>\n",
       "      <th>Furry Friends Forever: Elmo Gets a Puppy</th>\n",
       "      <td>MOVIE</td>\n",
       "      <td>2021</td>\n",
       "      <td>26</td>\n",
       "      <td>0.0</td>\n",
       "      <td>6.8</td>\n",
       "      <td>14.0</td>\n",
       "      <td>0.994</td>\n",
       "      <td>10.000</td>\n",
       "      <td>US</td>\n",
       "      <td>1</td>\n",
       "      <td>animation</td>\n",
       "      <td>5</td>\n",
       "    </tr>\n",
       "    <tr>\n",
       "      <th>Marlon Wayans: You Know What It Is</th>\n",
       "      <td>MOVIE</td>\n",
       "      <td>2021</td>\n",
       "      <td>58</td>\n",
       "      <td>0.0</td>\n",
       "      <td>3.8</td>\n",
       "      <td>224.0</td>\n",
       "      <td>2.398</td>\n",
       "      <td>5.400</td>\n",
       "      <td>US</td>\n",
       "      <td>1</td>\n",
       "      <td>comedy</td>\n",
       "      <td>7</td>\n",
       "    </tr>\n",
       "    <tr>\n",
       "      <th>Algo Azul</th>\n",
       "      <td>MOVIE</td>\n",
       "      <td>2021</td>\n",
       "      <td>90</td>\n",
       "      <td>0.0</td>\n",
       "      <td>5.9</td>\n",
       "      <td>50.0</td>\n",
       "      <td>1.400</td>\n",
       "      <td>2.000</td>\n",
       "      <td>PA</td>\n",
       "      <td>1</td>\n",
       "      <td>comedy</td>\n",
       "      <td>22</td>\n",
       "    </tr>\n",
       "  </tbody>\n",
       "</table>\n",
       "<p>14855 rows × 12 columns</p>\n",
       "</div>"
      ],
      "text/plain": [
       "                                           type  release_year  runtime  \\\n",
       "title                                                                    \n",
       "Taxi Driver                               MOVIE          1976      114   \n",
       "Deliverance                               MOVIE          1972      109   \n",
       "Monty Python and the Holy Grail           MOVIE          1975       91   \n",
       "The Dirty Dozen                           MOVIE          1967      150   \n",
       "Monty Python's Flying Circus               SHOW          1969       30   \n",
       "...                                         ...           ...      ...   \n",
       "Covid Diaries NYC                         MOVIE          2021       40   \n",
       "Breathless                                MOVIE          2021      106   \n",
       "Furry Friends Forever: Elmo Gets a Puppy  MOVIE          2021       26   \n",
       "Marlon Wayans: You Know What It Is        MOVIE          2021       58   \n",
       "Algo Azul                                 MOVIE          2021       90   \n",
       "\n",
       "                                          seasons  imdb_score  imdb_votes  \\\n",
       "title                                                                       \n",
       "Taxi Driver                                   0.0         8.2    808582.0   \n",
       "Deliverance                                   0.0         7.7    107673.0   \n",
       "Monty Python and the Holy Grail               0.0         8.2    534486.0   \n",
       "The Dirty Dozen                               0.0         7.7     72662.0   \n",
       "Monty Python's Flying Circus                  4.0         8.8     73424.0   \n",
       "...                                           ...         ...         ...   \n",
       "Covid Diaries NYC                             0.0         3.7       184.0   \n",
       "Breathless                                    0.0         6.3        27.0   \n",
       "Furry Friends Forever: Elmo Gets a Puppy      0.0         6.8        14.0   \n",
       "Marlon Wayans: You Know What It Is            0.0         3.8       224.0   \n",
       "Algo Azul                                     0.0         5.9        50.0   \n",
       "\n",
       "                                          tmdb_popularity  tmdb_score  \\\n",
       "title                                                                   \n",
       "Taxi Driver                                        40.965       8.179   \n",
       "Deliverance                                        10.010       7.300   \n",
       "Monty Python and the Holy Grail                    15.461       7.811   \n",
       "The Dirty Dozen                                    20.398       7.600   \n",
       "Monty Python's Flying Circus                       17.617       8.306   \n",
       "...                                                   ...         ...   \n",
       "Covid Diaries NYC                                   5.720       5.900   \n",
       "Breathless                                         69.940       5.900   \n",
       "Furry Friends Forever: Elmo Gets a Puppy            0.994      10.000   \n",
       "Marlon Wayans: You Know What It Is                  2.398       5.400   \n",
       "Algo Azul                                           1.400       2.000   \n",
       "\n",
       "                                         lead_prod_country  \\\n",
       "title                                                        \n",
       "Taxi Driver                                             US   \n",
       "Deliverance                                             US   \n",
       "Monty Python and the Holy Grail                         GB   \n",
       "The Dirty Dozen                                         GB   \n",
       "Monty Python's Flying Circus                            GB   \n",
       "...                                                    ...   \n",
       "Covid Diaries NYC                                       US   \n",
       "Breathless                                              DO   \n",
       "Furry Friends Forever: Elmo Gets a Puppy                US   \n",
       "Marlon Wayans: You Know What It Is                      US   \n",
       "Algo Azul                                               PA   \n",
       "\n",
       "                                          prod_countries_cnt     main_genre  \\\n",
       "title                                                                         \n",
       "Taxi Driver                                                1          drama   \n",
       "Deliverance                                                1          drama   \n",
       "Monty Python and the Holy Grail                            1        fantasy   \n",
       "The Dirty Dozen                                            2            war   \n",
       "Monty Python's Flying Circus                               1         comedy   \n",
       "...                                                      ...            ...   \n",
       "Covid Diaries NYC                                          1  documentation   \n",
       "Breathless                                                 1          crime   \n",
       "Furry Friends Forever: Elmo Gets a Puppy                   1      animation   \n",
       "Marlon Wayans: You Know What It Is                         1         comedy   \n",
       "Algo Azul                                                  1         comedy   \n",
       "\n",
       "                                          dbscan_10d_clusters  \n",
       "title                                                          \n",
       "Taxi Driver                                                 0  \n",
       "Deliverance                                                 0  \n",
       "Monty Python and the Holy Grail                             1  \n",
       "The Dirty Dozen                                             1  \n",
       "Monty Python's Flying Circus                                2  \n",
       "...                                                       ...  \n",
       "Covid Diaries NYC                                          42  \n",
       "Breathless                                                  9  \n",
       "Furry Friends Forever: Elmo Gets a Puppy                    5  \n",
       "Marlon Wayans: You Know What It Is                          7  \n",
       "Algo Azul                                                  22  \n",
       "\n",
       "[14855 rows x 12 columns]"
      ]
     },
     "execution_count": 59,
     "metadata": {},
     "output_type": "execute_result"
    }
   ],
   "source": [
    "df_movies"
   ]
  },
  {
   "cell_type": "markdown",
   "metadata": {},
   "source": [
    "<a id=\"6\"></a> <br>\n",
    "# Movie Recommendation Function"
   ]
  },
  {
   "cell_type": "markdown",
   "metadata": {},
   "source": [
    "#### Our data is ready to use the clustering results to try and recommend a movie by the name of the one you like"
   ]
  },
  {
   "cell_type": "code",
   "execution_count": 99,
   "metadata": {
    "execution": {
     "iopub.execute_input": "2022-12-07T16:37:10.752815Z",
     "iopub.status.busy": "2022-12-07T16:37:10.752432Z",
     "iopub.status.idle": "2022-12-07T16:37:10.761746Z",
     "shell.execute_reply": "2022-12-07T16:37:10.760529Z",
     "shell.execute_reply.started": "2022-12-07T16:37:10.752784Z"
    }
   },
   "outputs": [],
   "source": [
    "import random\n",
    "\n",
    "def recommend_movie(movie_name: str):\n",
    "    # Convert the input movie name to lowercase for case-insensitive matching\n",
    "    movie_name = movie_name.lower()\n",
    "\n",
    "    # Create a new column 'name' with lowercase movie names for comparison\n",
    "    df_movies['name'] = df_movies.index.str.lower()\n",
    "\n",
    "    # Find the movie that matches the input name\n",
    "    movie = df_movies[df_movies['name'].str.contains(movie_name, na=False)]\n",
    "\n",
    "    if not movie.empty:\n",
    "        # Get the cluster label of the input movie\n",
    "        cluster = movie['dbscan_10d_clusters'].values[0]\n",
    "\n",
    "        # Get all movies in the same cluster\n",
    "        cluster_movies = df_movies[df_movies['dbscan_10d_clusters'] == cluster]\n",
    "\n",
    "        # If there are more than 5 movies in the cluster, randomly select 5\n",
    "        if len(cluster_movies) >= 5:\n",
    "            recommended_movies = random.sample(list(cluster_movies.index), 5)\n",
    "        else:\n",
    "            # If fewer than 5, return all the movies in the cluster\n",
    "            recommended_movies = list(cluster_movies.index)\n",
    "\n",
    "        # Print the recommended movies\n",
    "        print('--- We can recommend you these movies ---')\n",
    "        for m in recommended_movies:\n",
    "            print(m)\n",
    "    else:\n",
    "        print('Movie not found in the database.')\n"
   ]
  },
  {
   "cell_type": "markdown",
   "metadata": {},
   "source": [
    "### 🎉 Now we can input a random movie name and get 5 movies that our model recommends"
   ]
  },
  {
   "cell_type": "code",
   "execution_count": 101,
   "metadata": {
    "execution": {
     "iopub.execute_input": "2022-12-07T16:37:10.763655Z",
     "iopub.status.busy": "2022-12-07T16:37:10.763337Z",
     "iopub.status.idle": "2022-12-07T16:38:23.429558Z",
     "shell.execute_reply": "2022-12-07T16:38:23.428365Z",
     "shell.execute_reply.started": "2022-12-07T16:37:10.763626Z"
    }
   },
   "outputs": [
    {
     "name": "stdout",
     "output_type": "stream",
     "text": [
      "Input movie name: potter\n",
      "\n",
      "\n",
      "\n",
      "--- We can recommend you these movies ---\n",
      "David Spade: Take the Hit\n",
      "The Marriage Circle\n",
      "Mike Epps: Only One Mike\n",
      "Bushwhacked\n",
      "Waffle Street\n"
     ]
    }
   ],
   "source": [
    "s = input('Input movie name: ')\n",
    "\n",
    "print(\"\\n\\n\")\n",
    "recommend_movie(s)"
   ]
  },
  {
   "cell_type": "markdown",
   "metadata": {},
   "source": [
    "# Streamlit App (so save df_movies dataset)"
   ]
  },
  {
   "cell_type": "code",
   "execution_count": 102,
   "metadata": {},
   "outputs": [],
   "source": [
    "df_movies.to_csv(\"clustered_movies.csv\", index=False)"
   ]
  },
  {
   "cell_type": "code",
   "execution_count": null,
   "metadata": {},
   "outputs": [],
   "source": []
  }
 ],
 "metadata": {
  "kernelspec": {
   "display_name": "Python 3 (ipykernel)",
   "language": "python",
   "name": "python3"
  },
  "language_info": {
   "codemirror_mode": {
    "name": "ipython",
    "version": 3
   },
   "file_extension": ".py",
   "mimetype": "text/x-python",
   "name": "python",
   "nbconvert_exporter": "python",
   "pygments_lexer": "ipython3",
   "version": "3.9.12"
  }
 },
 "nbformat": 4,
 "nbformat_minor": 4
}
