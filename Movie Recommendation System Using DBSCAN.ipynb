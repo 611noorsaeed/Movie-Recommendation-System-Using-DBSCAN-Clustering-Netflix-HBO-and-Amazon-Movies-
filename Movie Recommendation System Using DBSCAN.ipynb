{
 "cells": [
  {
   "cell_type": "markdown",
   "metadata": {},
   "source": [
    "#### Hi! Choosing a movie is a real struggle for many of us :) So most of the streaming platforms have inbuild recommendation systems. These systems aim to predict user's interests and recommend items that they'll probably like. Throughout this notebook, we will try to use 2 clasterisation methods to build our own movie recommender.\n",
    "\n",
    "#### We are going to use three following data sets:\n",
    "[Netflix TV Shows and Movies](https://www.kaggle.com/datasets/victorsoeiro/netflix-tv-shows-and-movies?datasetId=2178661&sortBy=voteCount)  \n",
    "[HBO Max TV Shows and Movies](https://www.kaggle.com/datasets/victorsoeiro/hbo-max-tv-shows-and-movies?select=titles.csv)  \n",
    "[Amazon Prime TV Shows and Movies](https://www.kaggle.com/datasets/victorsoeiro/amazon-prime-tv-shows-and-movies?select=titles.csv)  "
   ]
  },
  {
   "cell_type": "markdown",
   "metadata": {},
   "source": [
    "# Step 1: Import Required Libraries\n",
    "First, let's import the necessary libraries for the project."
   ]
  },
  {
   "cell_type": "code",
   "execution_count": 28,
   "metadata": {
    "execution": {
     "iopub.execute_input": "2022-12-07T16:29:59.681032Z",
     "iopub.status.busy": "2022-12-07T16:29:59.680552Z",
     "iopub.status.idle": "2022-12-07T16:30:00.585777Z",
     "shell.execute_reply": "2022-12-07T16:30:00.584661Z",
     "shell.execute_reply.started": "2022-12-07T16:29:59.680943Z"
    }
   },
   "outputs": [],
   "source": [
    "import pandas as pd\n",
    "import numpy as np\n",
    "\n",
    "# warnings \n",
    "import warnings\n",
    "warnings.filterwarnings('ignore')\n",
    "\n",
    "\n",
    "# sklearn\n",
    "from sklearn.cluster import DBSCAN\n",
    "from sklearn.metrics import silhouette_samples, silhouette_score\n",
    "from sklearn.preprocessing import OneHotEncoder, MinMaxScaler"
   ]
  },
  {
   "cell_type": "markdown",
   "metadata": {},
   "source": [
    "# Step 3: Data imports (3 datasets already mentioned)"
   ]
  },
  {
   "cell_type": "code",
   "execution_count": 29,
   "metadata": {
    "execution": {
     "iopub.execute_input": "2022-12-07T16:30:00.588220Z",
     "iopub.status.busy": "2022-12-07T16:30:00.587883Z",
     "iopub.status.idle": "2022-12-07T16:30:00.870705Z",
     "shell.execute_reply": "2022-12-07T16:30:00.869841Z",
     "shell.execute_reply.started": "2022-12-07T16:30:00.588190Z"
    }
   },
   "outputs": [],
   "source": [
    "df_netflix = pd.read_csv('Netflix TV Shows and Movies/titles.csv')\n",
    "df_amazon =  pd.read_csv('Amazon Prime TV Shows and Movies/titles.csv')\n",
    "df_hbo =  pd.read_csv('HBO Max TV Shows and Movies/titles.csv')"
   ]
  },
  {
   "cell_type": "code",
   "execution_count": 30,
   "metadata": {
    "execution": {
     "iopub.execute_input": "2022-12-07T16:30:00.872552Z",
     "iopub.status.busy": "2022-12-07T16:30:00.871771Z",
     "iopub.status.idle": "2022-12-07T16:30:00.891413Z",
     "shell.execute_reply": "2022-12-07T16:30:00.890500Z",
     "shell.execute_reply.started": "2022-12-07T16:30:00.872520Z"
    }
   },
   "outputs": [],
   "source": [
    "df = pd.concat([df_netflix, df_amazon, df_hbo], axis=0)"
   ]
  },
  {
   "cell_type": "markdown",
   "metadata": {},
   "source": [
    "# Step 3: Data Cleaning and Preprocessing"
   ]
  },
  {
   "cell_type": "code",
   "execution_count": 31,
   "metadata": {},
   "outputs": [],
   "source": [
    "df_movies = df.drop_duplicates()"
   ]
  },
  {
   "cell_type": "code",
   "execution_count": 32,
   "metadata": {},
   "outputs": [],
   "source": [
    "# Drop unnecessary columns\n",
    "df_movies.drop(['description', 'age_certification'], axis=1, inplace=True)"
   ]
  },
  {
   "cell_type": "markdown",
   "metadata": {},
   "source": [
    "##### working with production_countries column"
   ]
  },
  {
   "cell_type": "code",
   "execution_count": 33,
   "metadata": {},
   "outputs": [
    {
     "data": {
      "text/plain": [
       "0             ['US']\n",
       "1             ['US']\n",
       "2             ['US']\n",
       "3             ['GB']\n",
       "4       ['GB', 'US']\n",
       "            ...     \n",
       "3289          ['PR']\n",
       "3290          ['PA']\n",
       "3291              []\n",
       "3292              []\n",
       "3293          ['US']\n",
       "Name: production_countries, Length: 19015, dtype: object"
      ]
     },
     "execution_count": 33,
     "metadata": {},
     "output_type": "execute_result"
    }
   ],
   "source": [
    "df['production_countries']"
   ]
  },
  {
   "cell_type": "code",
   "execution_count": 34,
   "metadata": {},
   "outputs": [],
   "source": [
    "\n",
    "# 1. Remove unwanted characters from the 'production_countries' column\n",
    "# The .str.replace() method is used to remove '[' and ']' characters, and any single quotes\n",
    "# The 'regex=True' flag allows the .str.replace() method to interpret the patterns as regular expressions.\n",
    "# Note: Square brackets [ ] are special characters in regex, so they are not part of character set and needs escaping.\n",
    "df_movies['production_countries'] = df_movies['production_countries'].str.replace(r\"\\[\", '', regex=True).str.replace(r\"'\", '', regex=True).str.replace(r\"\\]\", '', regex=True)\n",
    "\n",
    "# 2. Extract the first country from the cleaned 'production_countries' column\n",
    "# The .str.split(',') splits the string into a list using commas as the delimiter, then .str[0] selects the first element.\n",
    "# This creates a new column 'lead_prod_country' that represents the primary production country of each movie\n",
    "df_movies['lead_prod_country'] = df_movies['production_countries'].str.split(',').str[0]\n",
    "\n",
    "# 3. Calculate the number of countries involved in the production of each movie\n",
    "# The .str.split(',') splits the 'production_countries' string by commas, and .str.len() counts the number of elements in the resulting list.\n",
    "# This new column 'prod_countries_cnt' stores the count of production countries for each movie, providing additional data insights\n",
    "df_movies['prod_countries_cnt'] = df_movies['production_countries'].str.split(',').str.len()\n",
    "\n",
    "# 4. Replace any empty values in the 'lead_prod_country' column with NaN (Not a Number)\n",
    "# This step uses the .replace() method to convert any empty strings ('') to np.nan (missing values)\n",
    "# Handling missing data with NaN is important for accurate data analysis and prevents errors in downstream processing\n",
    "df_movies['lead_prod_country'] = df_movies['lead_prod_country'].replace('', np.nan)\n"
   ]
  },
  {
   "cell_type": "code",
   "execution_count": 35,
   "metadata": {},
   "outputs": [
    {
     "data": {
      "text/plain": [
       "0        US\n",
       "1        US\n",
       "2        US\n",
       "3        GB\n",
       "4        GB\n",
       "       ... \n",
       "3289     PR\n",
       "3290     PA\n",
       "3291    NaN\n",
       "3292    NaN\n",
       "3293     US\n",
       "Name: lead_prod_country, Length: 18980, dtype: object"
      ]
     },
     "execution_count": 35,
     "metadata": {},
     "output_type": "execute_result"
    }
   ],
   "source": [
    "df_movies['lead_prod_country']"
   ]
  },
  {
   "cell_type": "markdown",
   "metadata": {},
   "source": [
    "##### Working with genres"
   ]
  },
  {
   "cell_type": "code",
   "execution_count": 36,
   "metadata": {},
   "outputs": [
    {
     "data": {
      "text/plain": [
       "0                                 ['documentation']\n",
       "1                                ['drama', 'crime']\n",
       "2       ['drama', 'action', 'thriller', 'european']\n",
       "3                   ['fantasy', 'action', 'comedy']\n",
       "4                                 ['war', 'action']\n",
       "                           ...                     \n",
       "3289                           ['romance', 'music']\n",
       "3290                                     ['comedy']\n",
       "3291                                     ['comedy']\n",
       "3292                                     ['comedy']\n",
       "3293                              ['documentation']\n",
       "Name: genres, Length: 18980, dtype: object"
      ]
     },
     "execution_count": 36,
     "metadata": {},
     "output_type": "execute_result"
    }
   ],
   "source": [
    "df_movies['genres']"
   ]
  },
  {
   "cell_type": "code",
   "execution_count": 37,
   "metadata": {},
   "outputs": [],
   "source": [
    "# 1. Remove unwanted characters from the 'genres' column\n",
    "# The .str.replace() method is used to remove '[' and ']' characters, and any single quotes from the 'genres' column\n",
    "# This cleans the 'genres' data by removing extraneous characters, making it easier to analyze and manipulate\n",
    "# Note: Square brackets [ ] are special characters in regex, so they need escaping with a backslash (\\).\n",
    "df_movies['genres'] = df_movies['genres'].str.replace(r\"\\[\", '', regex=True).str.replace(r\"'\", '', regex=True).str.replace(r\"\\]\", '', regex=True)\n",
    "\n",
    "# 2. Extract the first genre from the cleaned 'genres' column\n",
    "# The .str.split(',') splits the 'genres' string by commas, and .str[0] selects the first element of the resulting list\n",
    "# This creates a new column 'main_genre' that represents the primary genre of each movie\n",
    "df_movies['main_genre'] = df_movies['genres'].str.split(',').str[0]\n",
    "\n",
    "# . Replace any empty values in the 'main_genre' column with NaN (Not a Number)\n",
    "# This step uses the .replace() method to convert any empty strings ('') to np.nan, indicating missing data\n",
    "# Handling missing data with NaN is important for accurate data analysis and prevents errors in downstream processing\n",
    "df_movies['main_genre'] = df_movies['main_genre'].replace('', np.nan)"
   ]
  },
  {
   "cell_type": "code",
   "execution_count": 38,
   "metadata": {},
   "outputs": [
    {
     "data": {
      "text/plain": [
       "0       documentation\n",
       "1               drama\n",
       "2               drama\n",
       "3             fantasy\n",
       "4                 war\n",
       "            ...      \n",
       "3289          romance\n",
       "3290           comedy\n",
       "3291           comedy\n",
       "3292           comedy\n",
       "3293    documentation\n",
       "Name: main_genre, Length: 18980, dtype: object"
      ]
     },
     "execution_count": 38,
     "metadata": {},
     "output_type": "execute_result"
    }
   ],
   "source": [
    "df_movies['main_genre']"
   ]
  },
  {
   "cell_type": "code",
   "execution_count": 39,
   "metadata": {},
   "outputs": [],
   "source": [
    "#  Drop unnecessary columns 'genres' and 'production_countries' from the DataFrame\n",
    "# The .drop() method with 'axis=1' removes specified columns, as they are no longer needed after extracting the main genre and production country count\n",
    "df_movies.drop(['genres', 'production_countries'], axis=1, inplace=True)"
   ]
  },
  {
   "cell_type": "markdown",
   "metadata": {},
   "source": [
    "### drop missing values"
   ]
  },
  {
   "cell_type": "code",
   "execution_count": 40,
   "metadata": {},
   "outputs": [
    {
     "data": {
      "text/plain": [
       "(18980, 14)"
      ]
     },
     "execution_count": 40,
     "metadata": {},
     "output_type": "execute_result"
    }
   ],
   "source": [
    "df_movies.shape"
   ]
  },
  {
   "cell_type": "code",
   "execution_count": 41,
   "metadata": {},
   "outputs": [
    {
     "data": {
      "text/plain": [
       "id                        0\n",
       "title                     1\n",
       "type                      0\n",
       "release_year              0\n",
       "runtime                   0\n",
       "seasons               14772\n",
       "imdb_id                1394\n",
       "imdb_score             1873\n",
       "imdb_votes             1910\n",
       "tmdb_popularity         670\n",
       "tmdb_score             2656\n",
       "lead_prod_country      1160\n",
       "prod_countries_cnt        0\n",
       "main_genre              321\n",
       "dtype: int64"
      ]
     },
     "execution_count": 41,
     "metadata": {},
     "output_type": "execute_result"
    }
   ],
   "source": [
    "df_movies.isnull().sum()"
   ]
  },
  {
   "cell_type": "code",
   "execution_count": 42,
   "metadata": {},
   "outputs": [],
   "source": [
    "# Drop rows with any missing values to clean the dataset\n",
    "df_movies.dropna(inplace=True)\n",
    "\n",
    "# Set the 'title' column as the DataFrame index\n",
    "df_movies.set_index('title', inplace=True)\n",
    "\n",
    "# Drop the 'id' and 'imdb_id' columns as they are not needed for further analysis\n",
    "df_movies.drop(['id', 'imdb_id'], axis=1, inplace=True)\n"
   ]
  },
  {
   "cell_type": "code",
   "execution_count": 43,
   "metadata": {},
   "outputs": [
    {
     "data": {
      "text/plain": [
       "(3294, 11)"
      ]
     },
     "execution_count": 43,
     "metadata": {},
     "output_type": "execute_result"
    }
   ],
   "source": [
    "df_movies.shape"
   ]
  },
  {
   "cell_type": "markdown",
   "metadata": {},
   "source": [
    "# Encoding Categorical Features:"
   ]
  },
  {
   "cell_type": "code",
   "execution_count": 44,
   "metadata": {},
   "outputs": [],
   "source": [
    "# Create dummy variables for categorical columns ('type', 'lead_prod_country', 'main_genre')\n",
    "dummies = pd.get_dummies(df_movies[['type', 'lead_prod_country', 'main_genre']], drop_first=True)\n",
    "\n",
    "# Concatenate the dummy variables with the original DataFrame\n",
    "df_movies_dum = pd.concat([df_movies, dummies], axis=1)\n",
    "\n",
    "# 14. Drop the original categorical columns after creating dummy variables\n",
    "df_movies_dum.drop(['type', 'lead_prod_country', 'main_genre'], axis=1, inplace=True)"
   ]
  },
  {
   "cell_type": "markdown",
   "metadata": {},
   "source": [
    "# Scaling (MinmaxScaler):"
   ]
  },
  {
   "cell_type": "code",
   "execution_count": 45,
   "metadata": {},
   "outputs": [
    {
     "data": {
      "text/html": [
       "<div>\n",
       "<style scoped>\n",
       "    .dataframe tbody tr th:only-of-type {\n",
       "        vertical-align: middle;\n",
       "    }\n",
       "\n",
       "    .dataframe tbody tr th {\n",
       "        vertical-align: top;\n",
       "    }\n",
       "\n",
       "    .dataframe thead th {\n",
       "        text-align: right;\n",
       "    }\n",
       "</style>\n",
       "<table border=\"1\" class=\"dataframe\">\n",
       "  <thead>\n",
       "    <tr style=\"text-align: right;\">\n",
       "      <th></th>\n",
       "      <th>release_year</th>\n",
       "      <th>runtime</th>\n",
       "      <th>seasons</th>\n",
       "      <th>imdb_score</th>\n",
       "      <th>imdb_votes</th>\n",
       "      <th>tmdb_popularity</th>\n",
       "      <th>tmdb_score</th>\n",
       "      <th>prod_countries_cnt</th>\n",
       "      <th>lead_prod_country_AR</th>\n",
       "      <th>lead_prod_country_AT</th>\n",
       "      <th>...</th>\n",
       "      <th>main_genre_history</th>\n",
       "      <th>main_genre_horror</th>\n",
       "      <th>main_genre_music</th>\n",
       "      <th>main_genre_reality</th>\n",
       "      <th>main_genre_romance</th>\n",
       "      <th>main_genre_scifi</th>\n",
       "      <th>main_genre_sport</th>\n",
       "      <th>main_genre_thriller</th>\n",
       "      <th>main_genre_war</th>\n",
       "      <th>main_genre_western</th>\n",
       "    </tr>\n",
       "  </thead>\n",
       "  <tbody>\n",
       "    <tr>\n",
       "      <th>0</th>\n",
       "      <td>0.397727</td>\n",
       "      <td>0.168539</td>\n",
       "      <td>0.058824</td>\n",
       "      <td>0.9125</td>\n",
       "      <td>0.037009</td>\n",
       "      <td>0.007913</td>\n",
       "      <td>0.815870</td>\n",
       "      <td>0.0</td>\n",
       "      <td>0.0</td>\n",
       "      <td>0.0</td>\n",
       "      <td>...</td>\n",
       "      <td>0.0</td>\n",
       "      <td>0.0</td>\n",
       "      <td>0.0</td>\n",
       "      <td>0.0</td>\n",
       "      <td>0.0</td>\n",
       "      <td>0.0</td>\n",
       "      <td>0.0</td>\n",
       "      <td>0.0</td>\n",
       "      <td>0.0</td>\n",
       "      <td>0.0</td>\n",
       "    </tr>\n",
       "    <tr>\n",
       "      <th>1</th>\n",
       "      <td>0.625000</td>\n",
       "      <td>0.134831</td>\n",
       "      <td>0.156863</td>\n",
       "      <td>0.9250</td>\n",
       "      <td>0.155671</td>\n",
       "      <td>0.058490</td>\n",
       "      <td>0.815326</td>\n",
       "      <td>0.0</td>\n",
       "      <td>0.0</td>\n",
       "      <td>0.0</td>\n",
       "      <td>...</td>\n",
       "      <td>0.0</td>\n",
       "      <td>0.0</td>\n",
       "      <td>0.0</td>\n",
       "      <td>0.0</td>\n",
       "      <td>0.0</td>\n",
       "      <td>0.0</td>\n",
       "      <td>0.0</td>\n",
       "      <td>0.0</td>\n",
       "      <td>0.0</td>\n",
       "      <td>0.0</td>\n",
       "    </tr>\n",
       "    <tr>\n",
       "      <th>2</th>\n",
       "      <td>0.545455</td>\n",
       "      <td>0.286517</td>\n",
       "      <td>0.058824</td>\n",
       "      <td>0.6750</td>\n",
       "      <td>0.017194</td>\n",
       "      <td>0.022579</td>\n",
       "      <td>0.728261</td>\n",
       "      <td>0.0</td>\n",
       "      <td>0.0</td>\n",
       "      <td>0.0</td>\n",
       "      <td>...</td>\n",
       "      <td>0.0</td>\n",
       "      <td>0.0</td>\n",
       "      <td>0.0</td>\n",
       "      <td>0.0</td>\n",
       "      <td>0.0</td>\n",
       "      <td>1.0</td>\n",
       "      <td>0.0</td>\n",
       "      <td>0.0</td>\n",
       "      <td>0.0</td>\n",
       "      <td>0.0</td>\n",
       "    </tr>\n",
       "    <tr>\n",
       "      <th>3</th>\n",
       "      <td>0.568182</td>\n",
       "      <td>0.056180</td>\n",
       "      <td>0.450980</td>\n",
       "      <td>0.6250</td>\n",
       "      <td>0.002570</td>\n",
       "      <td>0.018954</td>\n",
       "      <td>0.619565</td>\n",
       "      <td>0.0</td>\n",
       "      <td>0.0</td>\n",
       "      <td>0.0</td>\n",
       "      <td>...</td>\n",
       "      <td>0.0</td>\n",
       "      <td>0.0</td>\n",
       "      <td>0.0</td>\n",
       "      <td>0.0</td>\n",
       "      <td>0.0</td>\n",
       "      <td>0.0</td>\n",
       "      <td>0.0</td>\n",
       "      <td>0.0</td>\n",
       "      <td>0.0</td>\n",
       "      <td>0.0</td>\n",
       "    </tr>\n",
       "    <tr>\n",
       "      <th>4</th>\n",
       "      <td>0.625000</td>\n",
       "      <td>0.129213</td>\n",
       "      <td>0.078431</td>\n",
       "      <td>0.7000</td>\n",
       "      <td>0.017658</td>\n",
       "      <td>0.008919</td>\n",
       "      <td>0.782609</td>\n",
       "      <td>0.0</td>\n",
       "      <td>0.0</td>\n",
       "      <td>0.0</td>\n",
       "      <td>...</td>\n",
       "      <td>0.0</td>\n",
       "      <td>0.0</td>\n",
       "      <td>0.0</td>\n",
       "      <td>0.0</td>\n",
       "      <td>0.0</td>\n",
       "      <td>0.0</td>\n",
       "      <td>0.0</td>\n",
       "      <td>0.0</td>\n",
       "      <td>0.0</td>\n",
       "      <td>0.0</td>\n",
       "    </tr>\n",
       "    <tr>\n",
       "      <th>...</th>\n",
       "      <td>...</td>\n",
       "      <td>...</td>\n",
       "      <td>...</td>\n",
       "      <td>...</td>\n",
       "      <td>...</td>\n",
       "      <td>...</td>\n",
       "      <td>...</td>\n",
       "      <td>...</td>\n",
       "      <td>...</td>\n",
       "      <td>...</td>\n",
       "      <td>...</td>\n",
       "      <td>...</td>\n",
       "      <td>...</td>\n",
       "      <td>...</td>\n",
       "      <td>...</td>\n",
       "      <td>...</td>\n",
       "      <td>...</td>\n",
       "      <td>...</td>\n",
       "      <td>...</td>\n",
       "      <td>...</td>\n",
       "      <td>...</td>\n",
       "    </tr>\n",
       "    <tr>\n",
       "      <th>3289</th>\n",
       "      <td>0.988636</td>\n",
       "      <td>0.146067</td>\n",
       "      <td>0.000000</td>\n",
       "      <td>0.5000</td>\n",
       "      <td>0.000028</td>\n",
       "      <td>0.002064</td>\n",
       "      <td>0.456522</td>\n",
       "      <td>0.0</td>\n",
       "      <td>0.0</td>\n",
       "      <td>0.0</td>\n",
       "      <td>...</td>\n",
       "      <td>0.0</td>\n",
       "      <td>0.0</td>\n",
       "      <td>0.0</td>\n",
       "      <td>0.0</td>\n",
       "      <td>0.0</td>\n",
       "      <td>0.0</td>\n",
       "      <td>0.0</td>\n",
       "      <td>0.0</td>\n",
       "      <td>0.0</td>\n",
       "      <td>0.0</td>\n",
       "    </tr>\n",
       "    <tr>\n",
       "      <th>3290</th>\n",
       "      <td>0.988636</td>\n",
       "      <td>0.258427</td>\n",
       "      <td>0.000000</td>\n",
       "      <td>0.5500</td>\n",
       "      <td>0.000027</td>\n",
       "      <td>0.002077</td>\n",
       "      <td>1.000000</td>\n",
       "      <td>0.0</td>\n",
       "      <td>0.0</td>\n",
       "      <td>0.0</td>\n",
       "      <td>...</td>\n",
       "      <td>0.0</td>\n",
       "      <td>0.0</td>\n",
       "      <td>0.0</td>\n",
       "      <td>0.0</td>\n",
       "      <td>0.0</td>\n",
       "      <td>0.0</td>\n",
       "      <td>0.0</td>\n",
       "      <td>0.0</td>\n",
       "      <td>0.0</td>\n",
       "      <td>0.0</td>\n",
       "    </tr>\n",
       "    <tr>\n",
       "      <th>3291</th>\n",
       "      <td>0.988636</td>\n",
       "      <td>0.185393</td>\n",
       "      <td>0.000000</td>\n",
       "      <td>0.5750</td>\n",
       "      <td>0.000017</td>\n",
       "      <td>0.000377</td>\n",
       "      <td>0.021739</td>\n",
       "      <td>0.0</td>\n",
       "      <td>0.0</td>\n",
       "      <td>0.0</td>\n",
       "      <td>...</td>\n",
       "      <td>0.0</td>\n",
       "      <td>0.0</td>\n",
       "      <td>0.0</td>\n",
       "      <td>0.0</td>\n",
       "      <td>0.0</td>\n",
       "      <td>0.0</td>\n",
       "      <td>0.0</td>\n",
       "      <td>0.0</td>\n",
       "      <td>0.0</td>\n",
       "      <td>0.0</td>\n",
       "    </tr>\n",
       "    <tr>\n",
       "      <th>3292</th>\n",
       "      <td>0.988636</td>\n",
       "      <td>0.191011</td>\n",
       "      <td>0.019608</td>\n",
       "      <td>0.3125</td>\n",
       "      <td>0.000067</td>\n",
       "      <td>0.001158</td>\n",
       "      <td>0.510870</td>\n",
       "      <td>0.0</td>\n",
       "      <td>0.0</td>\n",
       "      <td>0.0</td>\n",
       "      <td>...</td>\n",
       "      <td>0.0</td>\n",
       "      <td>0.0</td>\n",
       "      <td>0.0</td>\n",
       "      <td>1.0</td>\n",
       "      <td>0.0</td>\n",
       "      <td>0.0</td>\n",
       "      <td>0.0</td>\n",
       "      <td>0.0</td>\n",
       "      <td>0.0</td>\n",
       "      <td>0.0</td>\n",
       "    </tr>\n",
       "    <tr>\n",
       "      <th>3293</th>\n",
       "      <td>0.988636</td>\n",
       "      <td>0.061798</td>\n",
       "      <td>0.019608</td>\n",
       "      <td>0.0250</td>\n",
       "      <td>0.000141</td>\n",
       "      <td>0.001217</td>\n",
       "      <td>0.021739</td>\n",
       "      <td>0.0</td>\n",
       "      <td>0.0</td>\n",
       "      <td>0.0</td>\n",
       "      <td>...</td>\n",
       "      <td>0.0</td>\n",
       "      <td>0.0</td>\n",
       "      <td>0.0</td>\n",
       "      <td>0.0</td>\n",
       "      <td>0.0</td>\n",
       "      <td>0.0</td>\n",
       "      <td>0.0</td>\n",
       "      <td>0.0</td>\n",
       "      <td>0.0</td>\n",
       "      <td>0.0</td>\n",
       "    </tr>\n",
       "  </tbody>\n",
       "</table>\n",
       "<p>3294 rows × 81 columns</p>\n",
       "</div>"
      ],
      "text/plain": [
       "      release_year   runtime   seasons  imdb_score  imdb_votes  \\\n",
       "0         0.397727  0.168539  0.058824      0.9125    0.037009   \n",
       "1         0.625000  0.134831  0.156863      0.9250    0.155671   \n",
       "2         0.545455  0.286517  0.058824      0.6750    0.017194   \n",
       "3         0.568182  0.056180  0.450980      0.6250    0.002570   \n",
       "4         0.625000  0.129213  0.078431      0.7000    0.017658   \n",
       "...            ...       ...       ...         ...         ...   \n",
       "3289      0.988636  0.146067  0.000000      0.5000    0.000028   \n",
       "3290      0.988636  0.258427  0.000000      0.5500    0.000027   \n",
       "3291      0.988636  0.185393  0.000000      0.5750    0.000017   \n",
       "3292      0.988636  0.191011  0.019608      0.3125    0.000067   \n",
       "3293      0.988636  0.061798  0.019608      0.0250    0.000141   \n",
       "\n",
       "      tmdb_popularity  tmdb_score  prod_countries_cnt  lead_prod_country_AR  \\\n",
       "0            0.007913    0.815870                 0.0                   0.0   \n",
       "1            0.058490    0.815326                 0.0                   0.0   \n",
       "2            0.022579    0.728261                 0.0                   0.0   \n",
       "3            0.018954    0.619565                 0.0                   0.0   \n",
       "4            0.008919    0.782609                 0.0                   0.0   \n",
       "...               ...         ...                 ...                   ...   \n",
       "3289         0.002064    0.456522                 0.0                   0.0   \n",
       "3290         0.002077    1.000000                 0.0                   0.0   \n",
       "3291         0.000377    0.021739                 0.0                   0.0   \n",
       "3292         0.001158    0.510870                 0.0                   0.0   \n",
       "3293         0.001217    0.021739                 0.0                   0.0   \n",
       "\n",
       "      lead_prod_country_AT  ...  main_genre_history  main_genre_horror  \\\n",
       "0                      0.0  ...                 0.0                0.0   \n",
       "1                      0.0  ...                 0.0                0.0   \n",
       "2                      0.0  ...                 0.0                0.0   \n",
       "3                      0.0  ...                 0.0                0.0   \n",
       "4                      0.0  ...                 0.0                0.0   \n",
       "...                    ...  ...                 ...                ...   \n",
       "3289                   0.0  ...                 0.0                0.0   \n",
       "3290                   0.0  ...                 0.0                0.0   \n",
       "3291                   0.0  ...                 0.0                0.0   \n",
       "3292                   0.0  ...                 0.0                0.0   \n",
       "3293                   0.0  ...                 0.0                0.0   \n",
       "\n",
       "      main_genre_music  main_genre_reality  main_genre_romance  \\\n",
       "0                  0.0                 0.0                 0.0   \n",
       "1                  0.0                 0.0                 0.0   \n",
       "2                  0.0                 0.0                 0.0   \n",
       "3                  0.0                 0.0                 0.0   \n",
       "4                  0.0                 0.0                 0.0   \n",
       "...                ...                 ...                 ...   \n",
       "3289               0.0                 0.0                 0.0   \n",
       "3290               0.0                 0.0                 0.0   \n",
       "3291               0.0                 0.0                 0.0   \n",
       "3292               0.0                 1.0                 0.0   \n",
       "3293               0.0                 0.0                 0.0   \n",
       "\n",
       "      main_genre_scifi  main_genre_sport  main_genre_thriller  main_genre_war  \\\n",
       "0                  0.0               0.0                  0.0             0.0   \n",
       "1                  0.0               0.0                  0.0             0.0   \n",
       "2                  1.0               0.0                  0.0             0.0   \n",
       "3                  0.0               0.0                  0.0             0.0   \n",
       "4                  0.0               0.0                  0.0             0.0   \n",
       "...                ...               ...                  ...             ...   \n",
       "3289               0.0               0.0                  0.0             0.0   \n",
       "3290               0.0               0.0                  0.0             0.0   \n",
       "3291               0.0               0.0                  0.0             0.0   \n",
       "3292               0.0               0.0                  0.0             0.0   \n",
       "3293               0.0               0.0                  0.0             0.0   \n",
       "\n",
       "      main_genre_western  \n",
       "0                    0.0  \n",
       "1                    0.0  \n",
       "2                    0.0  \n",
       "3                    0.0  \n",
       "4                    0.0  \n",
       "...                  ...  \n",
       "3289                 0.0  \n",
       "3290                 0.0  \n",
       "3291                 0.0  \n",
       "3292                 0.0  \n",
       "3293                 0.0  \n",
       "\n",
       "[3294 rows x 81 columns]"
      ]
     },
     "execution_count": 45,
     "metadata": {},
     "output_type": "execute_result"
    }
   ],
   "source": [
    "# Apply MinMaxScaler to scale the data for model training\n",
    "scaler = MinMaxScaler()\n",
    "df_scaled = scaler.fit_transform(df_movies_dum)\n",
    "df_scaled = pd.DataFrame(df_scaled, columns=df_movies_dum.columns)\n",
    "\n",
    "# Display the scaled DataFrame\n",
    "\n",
    "df_scaled"
   ]
  },
  {
   "cell_type": "markdown",
   "metadata": {},
   "source": [
    "<a id=\"5\"></a> <br>\n",
    "# step 4: DBSCAN "
   ]
  },
  {
   "cell_type": "markdown",
   "metadata": {},
   "source": [
    "###### run a loop to get best epsilon value and minpnts"
   ]
  },
  {
   "cell_type": "code",
   "execution_count": 46,
   "metadata": {
    "execution": {
     "iopub.execute_input": "2022-12-07T16:36:39.457619Z",
     "iopub.status.busy": "2022-12-07T16:36:39.456879Z",
     "iopub.status.idle": "2022-12-07T16:37:07.484641Z",
     "shell.execute_reply": "2022-12-07T16:37:07.483657Z",
     "shell.execute_reply.started": "2022-12-07T16:36:39.457550Z"
    }
   },
   "outputs": [
    {
     "name": "stdout",
     "output_type": "stream",
     "text": [
      "For eps = 0.2 For min_samples = 5 Count clusters = 75 The average silhouette_score is : 0.4378840737098286\n",
      "For eps = 0.2 For min_samples = 10 Count clusters = 37 The average silhouette_score is : 0.36601440046646755\n",
      "For eps = 0.2 For min_samples = 30 Count clusters = 17 The average silhouette_score is : 0.23106054247198204\n",
      "For eps = 0.5 For min_samples = 5 Count clusters = 91 The average silhouette_score is : 0.6019560501740351\n",
      "For eps = 0.5 For min_samples = 10 Count clusters = 56 The average silhouette_score is : 0.5303679432698051\n",
      "For eps = 0.5 For min_samples = 30 Count clusters = 21 The average silhouette_score is : 0.36228604161700484\n",
      "For eps = 1 For min_samples = 5 Count clusters = 93 The average silhouette_score is : 0.6091664186394288\n",
      "For eps = 1 For min_samples = 10 Count clusters = 57 The average silhouette_score is : 0.5362809971937993\n",
      "For eps = 1 For min_samples = 30 Count clusters = 22 The average silhouette_score is : 0.3712130038803752\n"
     ]
    }
   ],
   "source": [
    "# Define the range of epsilon (eps) and minimum samples (min_samples) parameters for DBSCAN\n",
    "eps_array = [0.2, 0.5, 1]  # List of different epsilon values (the maximum distance between two samples for one to be considered as in the neighborhood of the other)\n",
    "min_samples_array = [5, 10, 30]  # List of different min_samples values (the number of samples in a neighborhood for a point to be considered as a core point)\n",
    "\n",
    "# Iterate over each combination of eps and min_samples\n",
    "for eps in eps_array:\n",
    "    for min_samples in min_samples_array:\n",
    "        # Initialize and fit the DBSCAN model with the current parameters\n",
    "        clusterer = DBSCAN(eps=eps, min_samples=min_samples).fit(df_scaled)\n",
    "        \n",
    "        # Retrieve the cluster labels from the fitted model\n",
    "        cluster_labels = clusterer.labels_\n",
    "        \n",
    "        # Check if the algorithm found only one cluster or marked all points as noise (-1 label for noise)\n",
    "        if len(set(cluster_labels)) == 1:\n",
    "            continue  # Skip this combination as it does not provide meaningful clusters\n",
    "        \n",
    "        # Calculate the silhouette score to evaluate the quality of the clustering\n",
    "        silhouette_avg = silhouette_score(df_scaled, cluster_labels)\n",
    "        \n",
    "        # Print the current parameters, number of clusters, and the silhouette score\n",
    "        print(\"For eps =\", eps,\n",
    "              \"For min_samples =\", min_samples,\n",
    "              \"Count clusters =\", len(set(cluster_labels)),\n",
    "              \"The average silhouette_score is :\", silhouette_avg)\n"
   ]
  },
  {
   "cell_type": "markdown",
   "metadata": {},
   "source": [
    "# DBSCAN With Best Hypterparameters (eps=1, minpnts=5)"
   ]
  },
  {
   "cell_type": "code",
   "execution_count": 47,
   "metadata": {
    "execution": {
     "iopub.execute_input": "2022-12-07T16:37:07.486451Z",
     "iopub.status.busy": "2022-12-07T16:37:07.485997Z",
     "iopub.status.idle": "2022-12-07T16:37:10.741424Z",
     "shell.execute_reply": "2022-12-07T16:37:10.740145Z",
     "shell.execute_reply.started": "2022-12-07T16:37:07.486410Z"
    }
   },
   "outputs": [
    {
     "name": "stdout",
     "output_type": "stream",
     "text": [
      "For eps = 1 For min_samples = 5 Count clusters = 93 The average silhouette_score is : 0.6091664186394288\n"
     ]
    }
   ],
   "source": [
    "dbscan_model = DBSCAN(eps=1, min_samples=5).fit(df_scaled)\n",
    "print(\"For eps =\", 1,\n",
    "      \"For min_samples =\", 5,\n",
    "      \"Count clusters =\", len(set(dbscan_model.labels_)),\n",
    "      \"The average silhouette_score is :\", silhouette_score(df_scaled, dbscan_model.labels_))"
   ]
  },
  {
   "cell_type": "markdown",
   "metadata": {},
   "source": [
    "##### save clusters for recommendations "
   ]
  },
  {
   "cell_type": "code",
   "execution_count": 48,
   "metadata": {
    "execution": {
     "iopub.execute_input": "2022-12-07T16:37:10.743395Z",
     "iopub.status.busy": "2022-12-07T16:37:10.742933Z",
     "iopub.status.idle": "2022-12-07T16:37:10.750695Z",
     "shell.execute_reply": "2022-12-07T16:37:10.749339Z",
     "shell.execute_reply.started": "2022-12-07T16:37:10.743352Z"
    }
   },
   "outputs": [],
   "source": [
    "df_movies['dbscan_clusters'] = dbscan_model.labels_"
   ]
  },
  {
   "cell_type": "code",
   "execution_count": 49,
   "metadata": {},
   "outputs": [
    {
     "data": {
      "text/plain": [
       "dbscan_clusters\n",
       "-1     387\n",
       " 1     347\n",
       " 13    267\n",
       " 35    221\n",
       " 5     145\n",
       "      ... \n",
       " 86      5\n",
       " 87      5\n",
       " 69      5\n",
       " 56      5\n",
       " 78      5\n",
       "Name: count, Length: 93, dtype: int64"
      ]
     },
     "execution_count": 49,
     "metadata": {},
     "output_type": "execute_result"
    }
   ],
   "source": [
    "df_movies['dbscan_clusters'].value_counts()"
   ]
  },
  {
   "cell_type": "markdown",
   "metadata": {},
   "source": [
    "<a id=\"6\"></a> <br>\n",
    "# Step 5: Movie Recommendation Function"
   ]
  },
  {
   "cell_type": "markdown",
   "metadata": {},
   "source": [
    "#### Our data is ready to use the clustering results to try and recommend a movie by the name of the one you like"
   ]
  },
  {
   "cell_type": "code",
   "execution_count": 50,
   "metadata": {
    "execution": {
     "iopub.execute_input": "2022-12-07T16:37:10.752815Z",
     "iopub.status.busy": "2022-12-07T16:37:10.752432Z",
     "iopub.status.idle": "2022-12-07T16:37:10.761746Z",
     "shell.execute_reply": "2022-12-07T16:37:10.760529Z",
     "shell.execute_reply.started": "2022-12-07T16:37:10.752784Z"
    }
   },
   "outputs": [],
   "source": [
    "import random\n",
    "\n",
    "def recommend_movie(movie_name: str):\n",
    "    # Convert the input movie name to lowercase for case-insensitive matching\n",
    "    movie_name = movie_name.lower()\n",
    "\n",
    "    # Create a new column 'name' with lowercase movie names for comparison\n",
    "    df_movies['name'] = df_movies.index.str.lower()\n",
    "\n",
    "    # Find the movie that matches the input name\n",
    "    movie = df_movies[df_movies['name'].str.contains(movie_name, na=False)]\n",
    "\n",
    "    if not movie.empty:\n",
    "        # Get the cluster label of the input movie\n",
    "        cluster = movie['dbscan_clusters'].values[0]\n",
    "\n",
    "        # Get all movies in the same cluster\n",
    "        cluster_movies = df_movies[df_movies['dbscan_clusters'] == cluster]\n",
    "\n",
    "        # If there are more than 5 movies in the cluster, randomly select 5\n",
    "        if len(cluster_movies) >= 5:\n",
    "            recommended_movies = random.sample(list(cluster_movies.index), 5)\n",
    "        else:\n",
    "            # If fewer than 5, return all the movies in the cluster\n",
    "            recommended_movies = list(cluster_movies.index)\n",
    "\n",
    "        # Print the recommended movies\n",
    "        print('--- We can recommend you these movies ---')\n",
    "        for m in recommended_movies:\n",
    "            print(m)\n",
    "    else:\n",
    "        print('Movie not found in the database.')\n"
   ]
  },
  {
   "cell_type": "markdown",
   "metadata": {},
   "source": [
    "### 🎉 Now we can input a random movie name and get 5 movies that our model recommends"
   ]
  },
  {
   "cell_type": "code",
   "execution_count": 51,
   "metadata": {
    "execution": {
     "iopub.execute_input": "2022-12-07T16:37:10.763655Z",
     "iopub.status.busy": "2022-12-07T16:37:10.763337Z",
     "iopub.status.idle": "2022-12-07T16:38:23.429558Z",
     "shell.execute_reply": "2022-12-07T16:38:23.428365Z",
     "shell.execute_reply.started": "2022-12-07T16:37:10.763626Z"
    }
   },
   "outputs": [
    {
     "name": "stdout",
     "output_type": "stream",
     "text": [
      "Input movie name: titan\n",
      "\n",
      "\n",
      "\n",
      "--- We can recommend you these movies ---\n",
      "Armed Girl's Machiavellism\n",
      "Mob Psycho 100\n",
      "Smile PreCure!\n",
      "One-Punch Man\n",
      "Vinland Saga\n"
     ]
    }
   ],
   "source": [
    "s = input('Input movie name: ')\n",
    "\n",
    "print(\"\\n\\n\")\n",
    "recommend_movie(s)"
   ]
  },
  {
   "cell_type": "code",
   "execution_count": 52,
   "metadata": {},
   "outputs": [
    {
     "name": "stdout",
     "output_type": "stream",
     "text": [
      "Input movie name: Vinland Saga\n",
      "\n",
      "\n",
      "\n",
      "--- We can recommend you these movies ---\n",
      "Kotaro Lives Alone\n",
      "Cowboy Bebop\n",
      "Hitorijime My Hero\n",
      "Vampire Knight\n",
      "Sailor Moon Crystal\n"
     ]
    }
   ],
   "source": [
    "s = input('Input movie name: ')\n",
    "\n",
    "print(\"\\n\\n\")\n",
    "recommend_movie(s)"
   ]
  },
  {
   "cell_type": "code",
   "execution_count": 55,
   "metadata": {},
   "outputs": [
    {
     "name": "stdout",
     "output_type": "stream",
     "text": [
      "Input movie name: Vampire Knight\n",
      "\n",
      "\n",
      "\n",
      "--- We can recommend you these movies ---\n",
      "Naruto\n",
      "Drifting Dragons\n",
      "Food Wars! Shokugeki no Soma\n",
      "Record of Ragnarok\n",
      "Beyblade Burst Surge\n"
     ]
    }
   ],
   "source": [
    "s = input('Input movie name: ')\n",
    "\n",
    "print(\"\\n\\n\")\n",
    "recommend_movie(s)"
   ]
  },
  {
   "cell_type": "markdown",
   "metadata": {},
   "source": [
    "# Streamlit App (so save df_movies dataset)"
   ]
  },
  {
   "cell_type": "code",
   "execution_count": 56,
   "metadata": {},
   "outputs": [],
   "source": [
    "df_movies.to_csv(\"clustered_movies.csv\", index=False)"
   ]
  },
  {
   "cell_type": "code",
   "execution_count": null,
   "metadata": {},
   "outputs": [],
   "source": []
  }
 ],
 "metadata": {
  "kernelspec": {
   "display_name": "Python 3 (ipykernel)",
   "language": "python",
   "name": "python3"
  },
  "language_info": {
   "codemirror_mode": {
    "name": "ipython",
    "version": 3
   },
   "file_extension": ".py",
   "mimetype": "text/x-python",
   "name": "python",
   "nbconvert_exporter": "python",
   "pygments_lexer": "ipython3",
   "version": "3.9.12"
  }
 },
 "nbformat": 4,
 "nbformat_minor": 4
}
